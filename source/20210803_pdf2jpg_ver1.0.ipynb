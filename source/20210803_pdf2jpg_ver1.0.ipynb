{
 "cells": [
  {
   "cell_type": "markdown",
   "metadata": {},
   "source": [
    "# PDF TO JPG 파일로 변환"
   ]
  },
  {
   "cell_type": "markdown",
   "metadata": {},
   "source": [
    "1. Library load"
   ]
  },
  {
   "cell_type": "code",
   "execution_count": 1,
   "metadata": {},
   "outputs": [],
   "source": [
    "from glob import glob\n",
    "from pdf2image import convert_from_path , convert_from_bytes\n",
    "# pdf2image\n",
    "# conda install -c conda-forge poppler  >>> error 발생\n",
    "# https://blog.alivate.com.au/poppler-windows/   >>>  'poppler 다운로드 받기' + 'zip파일을 원하는 경로에 풀기' \n",
    "# poppler 경로를 poppler_path=r\"\" 에 넣어서 전환하기"
   ]
  },
  {
   "cell_type": "markdown",
   "metadata": {},
   "source": [
    "from pdf2image.exceptions import (\n",
    "    PDFInfoNotInstalledError,\n",
    "    PDFPageCountError,\n",
    "    PDFSyntaxError\n",
    ")"
   ]
  },
  {
   "cell_type": "markdown",
   "metadata": {},
   "source": [
    "2. 경로에 포함된 pdf 파일 모두 읽기"
   ]
  },
  {
   "cell_type": "code",
   "execution_count": 9,
   "metadata": {},
   "outputs": [],
   "source": [
    "pdfs = glob('D:/image/*.pdf') # 현재 2개의 pdf 파일 존재 "
   ]
  },
  {
   "cell_type": "markdown",
   "metadata": {},
   "source": [
    "3. PDF TO JPG "
   ]
  },
  {
   "cell_type": "code",
   "execution_count": 10,
   "metadata": {},
   "outputs": [],
   "source": [
    "pages = [] #98\n",
    "for pdf in pdfs:\n",
    "    page = convert_from_path(pdf, 500,  poppler_path=r\"C:\\Program Files\\poppler-0.68.0_x86\\poppler-0.68.0\\bin\") \n",
    "    #pages.append(page)\n",
    "    pages += page"
   ]
  },
  {
   "cell_type": "markdown",
   "metadata": {},
   "source": [
    "4. Save JPG "
   ]
  },
  {
   "cell_type": "code",
   "execution_count": 11,
   "metadata": {},
   "outputs": [],
   "source": [
    "for i, page in enumerate(pages):\n",
    "    page.rotate(90, resample=0, expand=1, center=None, fillcolor=None).save(\"D:/image/records/{}.jpg\".format(i))\n"
   ]
  },
  {
   "cell_type": "code",
   "execution_count": null,
   "metadata": {},
   "outputs": [],
   "source": []
  },
  {
   "cell_type": "code",
   "execution_count": null,
   "metadata": {},
   "outputs": [],
   "source": []
  },
  {
   "cell_type": "code",
   "execution_count": null,
   "metadata": {},
   "outputs": [],
   "source": []
  },
  {
   "cell_type": "code",
   "execution_count": 8,
   "metadata": {},
   "outputs": [],
   "source": [
    "pages = [] #98\n",
    "for pdf in pdfs:\n",
    "    page = convert_from_path(pdf, 500,  poppler_path=r\"C:\\Program Files\\poppler-0.68.0_x86\\poppler-0.68.0\\bin\") \n",
    "    #pages.append(page)\n",
    "    pages += page"
   ]
  },
  {
   "cell_type": "code",
   "execution_count": 7,
   "metadata": {},
   "outputs": [
    {
     "data": {
      "text/plain": [
       "2"
      ]
     },
     "execution_count": 7,
     "metadata": {},
     "output_type": "execute_result"
    }
   ],
   "source": [
    "len(pdfs)"
   ]
  }
 ],
 "metadata": {
  "kernelspec": {
   "display_name": "Python 3",
   "language": "python",
   "name": "python3"
  },
  "language_info": {
   "codemirror_mode": {
    "name": "ipython",
    "version": 3
   },
   "file_extension": ".py",
   "mimetype": "text/x-python",
   "name": "python",
   "nbconvert_exporter": "python",
   "pygments_lexer": "ipython3",
   "version": "3.7.4"
  }
 },
 "nbformat": 4,
 "nbformat_minor": 2
}
