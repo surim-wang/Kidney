{
 "cells": [
  {
   "cell_type": "markdown",
   "metadata": {},
   "source": [
    "### 1. 라이브러리 로드"
   ]
  },
  {
   "cell_type": "code",
   "execution_count": 3,
   "metadata": {},
   "outputs": [],
   "source": [
    "from selenium import webdriver as wd\n",
    "from selenium.webdriver.common.keys import Keys\n",
    "import time\n",
    "import pandas as pd \n",
    "import os\n",
    "os.chdir('D:\\kidney')"
   ]
  },
  {
   "cell_type": "markdown",
   "metadata": {},
   "source": [
    "### 2. 크롬 드라이브로 사이트 열었다 닫기\n"
   ]
  },
  {
   "cell_type": "markdown",
   "metadata": {},
   "source": [
    "### 3. 데이터 프레임 만들기\n",
    "##### 3-1    1페이지 열기\n"
   ]
  },
  {
   "cell_type": "code",
   "execution_count": 4,
   "metadata": {},
   "outputs": [],
   "source": [
    "driver = webdriver.Chrome('D:\\kidney\\driver/chromedriver')\n",
    "driver.implicitly_wait(3)# 웹브라우져 3초 대기 #묵시적인 웨이팅 시간을 주는것 관례상 3초간 대기시간을 줌 넣으주는것이 좋음.\n",
    "driver.get('http://www.snuhlab.org/checkup/check_list.aspx?page={}&'.format(1))\n"
   ]
  },
  {
   "cell_type": "markdown",
   "metadata": {},
   "source": [
    "##### 3-2 항목 클릭해서 상세 페이지 보기"
   ]
  },
  {
   "cell_type": "code",
   "execution_count": 8,
   "metadata": {},
   "outputs": [],
   "source": [
    "strong_list = driver.find_elements_by_css_selector('strong')\n",
    "for i in range(len(strong_list)):\n",
    "    strong_list[i].click()\n",
    "    time.sleep(3)\n",
    "    break"
   ]
  },
  {
   "cell_type": "markdown",
   "metadata": {},
   "source": [
    "##### 3-3. 데이터를 담을 데이터 프레임 만들기"
   ]
  },
  {
   "cell_type": "code",
   "execution_count": 9,
   "metadata": {},
   "outputs": [
    {
     "data": {
      "text/html": [
       "<div>\n",
       "<style scoped>\n",
       "    .dataframe tbody tr th:only-of-type {\n",
       "        vertical-align: middle;\n",
       "    }\n",
       "\n",
       "    .dataframe tbody tr th {\n",
       "        vertical-align: top;\n",
       "    }\n",
       "\n",
       "    .dataframe thead th {\n",
       "        text-align: right;\n",
       "    }\n",
       "</style>\n",
       "<table border=\"1\" class=\"dataframe\">\n",
       "  <thead>\n",
       "    <tr style=\"text-align: right;\">\n",
       "      <th></th>\n",
       "      <th>검사분류코드</th>\n",
       "      <th>검사분류명</th>\n",
       "      <th>검사항목코드</th>\n",
       "      <th>검사항목명</th>\n",
       "      <th>참고치</th>\n",
       "      <th>단위</th>\n",
       "      <th>기본검체</th>\n",
       "      <th>검체용기 이미지</th>\n",
       "      <th>검체용기</th>\n",
       "      <th>주의사항</th>\n",
       "      <th>시행일</th>\n",
       "      <th>접수마감시간</th>\n",
       "      <th>보고소요시간</th>\n",
       "      <th>검사방법</th>\n",
       "      <th>검사의의</th>\n",
       "      <th>비고</th>\n",
       "      <th>동의어</th>\n",
       "      <th>오더가능여부</th>\n",
       "      <th>시행여부</th>\n",
       "    </tr>\n",
       "  </thead>\n",
       "  <tbody>\n",
       "  </tbody>\n",
       "</table>\n",
       "</div>"
      ],
      "text/plain": [
       "Empty DataFrame\n",
       "Columns: [검사분류코드, 검사분류명, 검사항목코드, 검사항목명, 참고치, 단위, 기본검체, 검체용기 이미지, 검체용기, 주의사항, 시행일, 접수마감시간, 보고소요시간, 검사방법, 검사의의, 비고, 동의어, 오더가능여부, 시행여부]\n",
       "Index: []"
      ]
     },
     "execution_count": 9,
     "metadata": {},
     "output_type": "execute_result"
    }
   ],
   "source": [
    "columns =[]\n",
    "table_lst = driver.find_elements_by_css_selector('table')\n",
    "for i in range(0,1):\n",
    "    table_th_lst = table_lst[i].find_elements_by_css_selector('th')\n",
    "    for i in range(len(table_th_lst)):\n",
    "        column = table_th_lst[i].text\n",
    "        columns.append(column)\n",
    "df = pd.DataFrame(columns = columns)\n",
    "df"
   ]
  },
  {
   "cell_type": "code",
   "execution_count": 11,
   "metadata": {},
   "outputs": [],
   "source": [
    "df_col = ['검사분류코드', '검사분류명', '검사항목코드', '검사항목명', '참고치', '단위', '기본검체', '검체용기 이미지',\n",
    "       '검체용기', '주의사항', '시행일', '접수마감시간', '보고소요시간', '검사방법', '검사의의', '비고', '동의어',\n",
    "       '오더가능여부', '시행여부']"
   ]
  },
  {
   "cell_type": "markdown",
   "metadata": {},
   "source": [
    "##### 3-4 드라이버 종료"
   ]
  },
  {
   "cell_type": "code",
   "execution_count": 12,
   "metadata": {},
   "outputs": [],
   "source": [
    "driver.quit()"
   ]
  },
  {
   "cell_type": "markdown",
   "metadata": {},
   "source": [
    " "
   ]
  },
  {
   "cell_type": "markdown",
   "metadata": {},
   "source": [
    "#  4 테스트 추출"
   ]
  },
  {
   "cell_type": "markdown",
   "metadata": {},
   "source": [
    "##### 4-1 드라이버 실행"
   ]
  },
  {
   "cell_type": "code",
   "execution_count": 62,
   "metadata": {},
   "outputs": [],
   "source": [
    "# 크롬드라이버 실행\n",
    "driver = webdriver.Chrome('D:\\kidney\\driver/chromedriver')\n",
    "# 3초 대기\n",
    "driver.implicitly_wait(3)# 웹브라우져 3초 대기 #묵시적인 웨이팅 시간을 주는것 관례상 3초간 대기시간을 줌 넣으주는것이 좋음.\n",
    "# 웹 브라우져 오픈\n",
    "driver.get('http://www.snuhlab.org/checkup/check_list.aspx?page={}&'.format(1))"
   ]
  },
  {
   "cell_type": "markdown",
   "metadata": {},
   "source": [
    "##### 4-2 테스트 추출"
   ]
  },
  {
   "cell_type": "code",
   "execution_count": 65,
   "metadata": {
    "scrolled": true
   },
   "outputs": [
    {
     "name": "stdout",
     "output_type": "stream",
     "text": [
      "['검사분류코드 L43\\n검사분류명 미생물특수\\n검사항목코드 L4326\\n검사항목명 Adenovirus IFA\\n참고치 Negative\\n단위\\n기본검체 Endotracheal Aspirate\\n검체용기 이미지\\n검체용기 ETA용기\\n주의사항 면봉검체는 환부의 세포를 많이 취하여 IFA용 슬라이드의 구멍에 부드럽게 펴 바른다. [IFA용 슬라이드는 검사실에서 불출]\\n시행일 월-금\\n접수마감시간 오후 1시\\n보고소요시간 1~2일\\n검사방법 직접 면역 형광 염색\\n검사의의 폐렴 등 호흡기 감염을 주로 일으키는 혈청형의 adenovirus 항원을 검출. 대변 검체의 경우는 Adenovirus antigen 검사로 의뢰할 것(검출되는 혈청형이 다름)\\n비고\\n동의어 형광염색, IFA, DFA\\n오더가능여부 예\\n시행여부 시행중']\n",
      "['검사분류코드 L43\\n검사분류명 미생물특수\\n검사항목코드 L4326\\n검사항목명 Adenovirus IFA\\n참고치 Negative\\n단위\\n기본검체 Endotracheal Aspirate\\n검체용기 이미지\\n검체용기 ETA용기\\n주의사항 면봉검체는 환부의 세포를 많이 취하여 IFA용 슬라이드의 구멍에 부드럽게 펴 바른다. [IFA용 슬라이드는 검사실에서 불출]\\n시행일 월-금\\n접수마감시간 오후 1시\\n보고소요시간 1~2일\\n검사방법 직접 면역 형광 염색\\n검사의의 폐렴 등 호흡기 감염을 주로 일으키는 혈청형의 adenovirus 항원을 검출. 대변 검체의 경우는 Adenovirus antigen 검사로 의뢰할 것(검출되는 혈청형이 다름)\\n비고\\n동의어 형광염색, IFA, DFA\\n오더가능여부 예\\n시행여부 시행중', '']\n",
      "['검사분류코드 L43\\n검사분류명 미생물특수\\n검사항목코드 L4326\\n검사항목명 Adenovirus IFA\\n참고치 Negative\\n단위\\n기본검체 Endotracheal Aspirate\\n검체용기 이미지\\n검체용기 ETA용기\\n주의사항 면봉검체는 환부의 세포를 많이 취하여 IFA용 슬라이드의 구멍에 부드럽게 펴 바른다. [IFA용 슬라이드는 검사실에서 불출]\\n시행일 월-금\\n접수마감시간 오후 1시\\n보고소요시간 1~2일\\n검사방법 직접 면역 형광 염색\\n검사의의 폐렴 등 호흡기 감염을 주로 일으키는 혈청형의 adenovirus 항원을 검출. 대변 검체의 경우는 Adenovirus antigen 검사로 의뢰할 것(검출되는 혈청형이 다름)\\n비고\\n동의어 형광염색, IFA, DFA\\n오더가능여부 예\\n시행여부 시행중', '', '']\n",
      "['검사분류코드 L43\\n검사분류명 미생물특수\\n검사항목코드 L4326\\n검사항목명 Adenovirus IFA\\n참고치 Negative\\n단위\\n기본검체 Endotracheal Aspirate\\n검체용기 이미지\\n검체용기 ETA용기\\n주의사항 면봉검체는 환부의 세포를 많이 취하여 IFA용 슬라이드의 구멍에 부드럽게 펴 바른다. [IFA용 슬라이드는 검사실에서 불출]\\n시행일 월-금\\n접수마감시간 오후 1시\\n보고소요시간 1~2일\\n검사방법 직접 면역 형광 염색\\n검사의의 폐렴 등 호흡기 감염을 주로 일으키는 혈청형의 adenovirus 항원을 검출. 대변 검체의 경우는 Adenovirus antigen 검사로 의뢰할 것(검출되는 혈청형이 다름)\\n비고\\n동의어 형광염색, IFA, DFA\\n오더가능여부 예\\n시행여부 시행중', '', '', '']\n",
      "['검사분류코드 L43\\n검사분류명 미생물특수\\n검사항목코드 L4326\\n검사항목명 Adenovirus IFA\\n참고치 Negative\\n단위\\n기본검체 Endotracheal Aspirate\\n검체용기 이미지\\n검체용기 ETA용기\\n주의사항 면봉검체는 환부의 세포를 많이 취하여 IFA용 슬라이드의 구멍에 부드럽게 펴 바른다. [IFA용 슬라이드는 검사실에서 불출]\\n시행일 월-금\\n접수마감시간 오후 1시\\n보고소요시간 1~2일\\n검사방법 직접 면역 형광 염색\\n검사의의 폐렴 등 호흡기 감염을 주로 일으키는 혈청형의 adenovirus 항원을 검출. 대변 검체의 경우는 Adenovirus antigen 검사로 의뢰할 것(검출되는 혈청형이 다름)\\n비고\\n동의어 형광염색, IFA, DFA\\n오더가능여부 예\\n시행여부 시행중', '', '', '', '']\n",
      "['검사분류코드 L43\\n검사분류명 미생물특수\\n검사항목코드 L4326\\n검사항목명 Adenovirus IFA\\n참고치 Negative\\n단위\\n기본검체 Endotracheal Aspirate\\n검체용기 이미지\\n검체용기 ETA용기\\n주의사항 면봉검체는 환부의 세포를 많이 취하여 IFA용 슬라이드의 구멍에 부드럽게 펴 바른다. [IFA용 슬라이드는 검사실에서 불출]\\n시행일 월-금\\n접수마감시간 오후 1시\\n보고소요시간 1~2일\\n검사방법 직접 면역 형광 염색\\n검사의의 폐렴 등 호흡기 감염을 주로 일으키는 혈청형의 adenovirus 항원을 검출. 대변 검체의 경우는 Adenovirus antigen 검사로 의뢰할 것(검출되는 혈청형이 다름)\\n비고\\n동의어 형광염색, IFA, DFA\\n오더가능여부 예\\n시행여부 시행중', '', '', '', '', '']\n",
      "['검사분류코드 L43\\n검사분류명 미생물특수\\n검사항목코드 L4326\\n검사항목명 Adenovirus IFA\\n참고치 Negative\\n단위\\n기본검체 Endotracheal Aspirate\\n검체용기 이미지\\n검체용기 ETA용기\\n주의사항 면봉검체는 환부의 세포를 많이 취하여 IFA용 슬라이드의 구멍에 부드럽게 펴 바른다. [IFA용 슬라이드는 검사실에서 불출]\\n시행일 월-금\\n접수마감시간 오후 1시\\n보고소요시간 1~2일\\n검사방법 직접 면역 형광 염색\\n검사의의 폐렴 등 호흡기 감염을 주로 일으키는 혈청형의 adenovirus 항원을 검출. 대변 검체의 경우는 Adenovirus antigen 검사로 의뢰할 것(검출되는 혈청형이 다름)\\n비고\\n동의어 형광염색, IFA, DFA\\n오더가능여부 예\\n시행여부 시행중', '', '', '', '', '', '']\n",
      "['검사분류코드 L43\\n검사분류명 미생물특수\\n검사항목코드 L4326\\n검사항목명 Adenovirus IFA\\n참고치 Negative\\n단위\\n기본검체 Endotracheal Aspirate\\n검체용기 이미지\\n검체용기 ETA용기\\n주의사항 면봉검체는 환부의 세포를 많이 취하여 IFA용 슬라이드의 구멍에 부드럽게 펴 바른다. [IFA용 슬라이드는 검사실에서 불출]\\n시행일 월-금\\n접수마감시간 오후 1시\\n보고소요시간 1~2일\\n검사방법 직접 면역 형광 염색\\n검사의의 폐렴 등 호흡기 감염을 주로 일으키는 혈청형의 adenovirus 항원을 검출. 대변 검체의 경우는 Adenovirus antigen 검사로 의뢰할 것(검출되는 혈청형이 다름)\\n비고\\n동의어 형광염색, IFA, DFA\\n오더가능여부 예\\n시행여부 시행중', '', '', '', '', '', '', '']\n",
      "['검사분류코드 L43\\n검사분류명 미생물특수\\n검사항목코드 L4326\\n검사항목명 Adenovirus IFA\\n참고치 Negative\\n단위\\n기본검체 Endotracheal Aspirate\\n검체용기 이미지\\n검체용기 ETA용기\\n주의사항 면봉검체는 환부의 세포를 많이 취하여 IFA용 슬라이드의 구멍에 부드럽게 펴 바른다. [IFA용 슬라이드는 검사실에서 불출]\\n시행일 월-금\\n접수마감시간 오후 1시\\n보고소요시간 1~2일\\n검사방법 직접 면역 형광 염색\\n검사의의 폐렴 등 호흡기 감염을 주로 일으키는 혈청형의 adenovirus 항원을 검출. 대변 검체의 경우는 Adenovirus antigen 검사로 의뢰할 것(검출되는 혈청형이 다름)\\n비고\\n동의어 형광염색, IFA, DFA\\n오더가능여부 예\\n시행여부 시행중', '', '', '', '', '', '', '', '']\n",
      "['검사분류코드 L43\\n검사분류명 미생물특수\\n검사항목코드 L4326\\n검사항목명 Adenovirus IFA\\n참고치 Negative\\n단위\\n기본검체 Endotracheal Aspirate\\n검체용기 이미지\\n검체용기 ETA용기\\n주의사항 면봉검체는 환부의 세포를 많이 취하여 IFA용 슬라이드의 구멍에 부드럽게 펴 바른다. [IFA용 슬라이드는 검사실에서 불출]\\n시행일 월-금\\n접수마감시간 오후 1시\\n보고소요시간 1~2일\\n검사방법 직접 면역 형광 염색\\n검사의의 폐렴 등 호흡기 감염을 주로 일으키는 혈청형의 adenovirus 항원을 검출. 대변 검체의 경우는 Adenovirus antigen 검사로 의뢰할 것(검출되는 혈청형이 다름)\\n비고\\n동의어 형광염색, IFA, DFA\\n오더가능여부 예\\n시행여부 시행중', '', '', '', '', '', '', '', '', '']\n"
     ]
    }
   ],
   "source": [
    "# 검사명 클릭을 위한 설정\n",
    "strong_list = driver.find_elements_by_css_selector('strong')\n",
    "\n",
    "#for i in range(len(strong_list)):\n",
    "for i in range(10):\n",
    "    strong_list[i].click() #검사명 클릭\n",
    "    time.sleep(4)\n",
    "    td_lst = driver.find_elements_by_css_selector('thead')\n",
    "    raw_lst =[]\n",
    "    for i in range(10):\n",
    "        data = td_lst[i].text\n",
    "        #print(data)\n",
    "        raw_lst.append(data)\n",
    "        #print(raw_lst)\n",
    "        print(raw_lst[i:i+10])\n",
    "#    df = df.append(pd.Series(raw_lst, index=df.columns), ignore_index=True)\n",
    "    time.sleep(4)\n",
    "    #break"
   ]
  },
  {
   "cell_type": "code",
   "execution_count": null,
   "metadata": {},
   "outputs": [],
   "source": []
  },
  {
   "cell_type": "code",
   "execution_count": 33,
   "metadata": {},
   "outputs": [
    {
     "name": "stdout",
     "output_type": "stream",
     "text": [
      "190\n",
      "\n",
      "\n",
      "\n",
      "\n",
      "\n",
      "\n",
      "\n",
      "\n",
      "\n",
      "\n",
      "\n",
      "\n",
      "\n",
      "\n",
      "\n",
      "\n",
      "\n",
      "\n",
      "\n"
     ]
    }
   ],
   "source": [
    "# 검사명 클릭을 위한 설정\n",
    "strong_list = driver.find_elements_by_css_selector('strong')\n",
    "\n",
    "#for i in range(len(strong_list)):\n",
    "for i in range(1,2):\n",
    "    strong_list[i].click() #검사명 클릭\n",
    "    time.sleep(4)\n",
    "    td_lst = driver.find_elements_by_css_selector('td')\n",
    "    print(len(td_lst))\n",
    "    print(td_lst[0].text)\n",
    "    print(td_lst[1].text)\n",
    "    print(td_lst[2].text)\n",
    "    print(td_lst[3].text)\n",
    "    print(td_lst[4].text)\n",
    "    print(td_lst[5].text)\n",
    "    print(td_lst[6].text)\n",
    "    print(td_lst[7].text)\n",
    "    print(td_lst[8].text)\n",
    "    print(td_lst[9].text)\n",
    "    print(td_lst[10].text)\n",
    "    print(td_lst[11].text)\n",
    "    print(td_lst[12].text)\n",
    "    print(td_lst[13].text)\n",
    "    print(td_lst[14].text)\n",
    "    print(td_lst[15].text)\n",
    "    print(td_lst[16].text)\n",
    "    print(td_lst[17].text)\n",
    "    print(td_lst[18].text)\n",
    "\n",
    "    "
   ]
  },
  {
   "cell_type": "code",
   "execution_count": null,
   "metadata": {},
   "outputs": [],
   "source": []
  },
  {
   "cell_type": "code",
   "execution_count": 45,
   "metadata": {},
   "outputs": [
    {
     "data": {
      "text/plain": [
       "[<selenium.webdriver.remote.webelement.WebElement (session=\"fc3f1b44dfb7fc7b0f46d6b4f4f6f9a0\", element=\"f16516aa-da27-43a5-8bdf-ae7baac1997d\")>]"
      ]
     },
     "execution_count": 45,
     "metadata": {},
     "output_type": "execute_result"
    }
   ],
   "source": [
    "a1 = driver.find_elements_by_css_selector('#content > div.sub_content.fix > div.rgh_con_section > div.board_sec.jw_bh > ul > li:nth-child(2) > div.common_board_view > table > thead > tr:nth-child(1) > td')\n",
    "a2 = driver.find_elements_by_css_selector('#content > div.sub_content.fix > div.rgh_con_section > div.board_sec.jw_bh > ul > li:nth-child(2) > div.common_board_view > table > thead > tr:nth-child(2) > td')\n",
    "a1\n",
    "a2\n",
    "#content > div.sub_content.fix > div.rgh_con_section > div.board_sec.jw_bh > ul > li:nth-child(2) > div.common_board_view > table > thead > tr:nth-child(2) > td"
   ]
  },
  {
   "cell_type": "code",
   "execution_count": 46,
   "metadata": {},
   "outputs": [
    {
     "data": {
      "text/plain": [
       "''"
      ]
     },
     "execution_count": 46,
     "metadata": {},
     "output_type": "execute_result"
    }
   ],
   "source": [
    "a1[0].text"
   ]
  },
  {
   "cell_type": "code",
   "execution_count": 47,
   "metadata": {},
   "outputs": [
    {
     "data": {
      "text/plain": [
       "''"
      ]
     },
     "execution_count": 47,
     "metadata": {},
     "output_type": "execute_result"
    }
   ],
   "source": [
    "a2[0].text"
   ]
  },
  {
   "cell_type": "code",
   "execution_count": 41,
   "metadata": {},
   "outputs": [
    {
     "data": {
      "text/plain": [
       "1"
      ]
     },
     "execution_count": 41,
     "metadata": {},
     "output_type": "execute_result"
    }
   ],
   "source": [
    "len(a1)"
   ]
  },
  {
   "cell_type": "code",
   "execution_count": 48,
   "metadata": {},
   "outputs": [
    {
     "data": {
      "text/plain": [
       "1"
      ]
     },
     "execution_count": 48,
     "metadata": {},
     "output_type": "execute_result"
    }
   ],
   "source": [
    "len(a2)"
   ]
  },
  {
   "cell_type": "code",
   "execution_count": null,
   "metadata": {},
   "outputs": [],
   "source": []
  },
  {
   "cell_type": "code",
   "execution_count": null,
   "metadata": {},
   "outputs": [],
   "source": []
  },
  {
   "cell_type": "code",
   "execution_count": null,
   "metadata": {},
   "outputs": [],
   "source": []
  },
  {
   "cell_type": "code",
   "execution_count": null,
   "metadata": {},
   "outputs": [],
   "source": []
  },
  {
   "cell_type": "code",
   "execution_count": null,
   "metadata": {},
   "outputs": [],
   "source": [
    "strong_list = driver.find_elements_by_css_selector('strong')\n",
    "\n",
    "strong_list[0].click() #검사명 클릭\n",
    "time.sleep(4)\n",
    "td_lst = driver.find_elements_by_css_selector('td')\n",
    "raw_lst =[]\n",
    "for i in range(19):\n",
    "    data = td_lst[i].text\n",
    "    #print(data)\n",
    "    raw_lst.append(data)\n",
    "print(raw_lst)\n",
    "#    df = df.append(pd.Series(raw_lst, index=df.columns), ignore_index=True)\n",
    "time.sleep(4)"
   ]
  },
  {
   "cell_type": "code",
   "execution_count": null,
   "metadata": {},
   "outputs": [],
   "source": []
  },
  {
   "cell_type": "code",
   "execution_count": null,
   "metadata": {},
   "outputs": [],
   "source": []
  },
  {
   "cell_type": "code",
   "execution_count": 15,
   "metadata": {},
   "outputs": [
    {
     "data": {
      "text/html": [
       "<div>\n",
       "<style scoped>\n",
       "    .dataframe tbody tr th:only-of-type {\n",
       "        vertical-align: middle;\n",
       "    }\n",
       "\n",
       "    .dataframe tbody tr th {\n",
       "        vertical-align: top;\n",
       "    }\n",
       "\n",
       "    .dataframe thead th {\n",
       "        text-align: right;\n",
       "    }\n",
       "</style>\n",
       "<table border=\"1\" class=\"dataframe\">\n",
       "  <thead>\n",
       "    <tr style=\"text-align: right;\">\n",
       "      <th></th>\n",
       "      <th>검사분류코드</th>\n",
       "      <th>검사분류명</th>\n",
       "      <th>검사항목코드</th>\n",
       "      <th>검사항목명</th>\n",
       "      <th>참고치</th>\n",
       "      <th>단위</th>\n",
       "      <th>기본검체</th>\n",
       "      <th>검체용기 이미지</th>\n",
       "      <th>검체용기</th>\n",
       "      <th>주의사항</th>\n",
       "      <th>시행일</th>\n",
       "      <th>접수마감시간</th>\n",
       "      <th>보고소요시간</th>\n",
       "      <th>검사방법</th>\n",
       "      <th>검사의의</th>\n",
       "      <th>비고</th>\n",
       "      <th>동의어</th>\n",
       "      <th>오더가능여부</th>\n",
       "      <th>시행여부</th>\n",
       "    </tr>\n",
       "  </thead>\n",
       "  <tbody>\n",
       "  </tbody>\n",
       "</table>\n",
       "</div>"
      ],
      "text/plain": [
       "Empty DataFrame\n",
       "Columns: [검사분류코드, 검사분류명, 검사항목코드, 검사항목명, 참고치, 단위, 기본검체, 검체용기 이미지, 검체용기, 주의사항, 시행일, 접수마감시간, 보고소요시간, 검사방법, 검사의의, 비고, 동의어, 오더가능여부, 시행여부]\n",
       "Index: []"
      ]
     },
     "execution_count": 15,
     "metadata": {},
     "output_type": "execute_result"
    }
   ],
   "source": [
    "df"
   ]
  },
  {
   "cell_type": "code",
   "execution_count": 166,
   "metadata": {},
   "outputs": [
    {
     "data": {
      "text/plain": [
       "['', '', '', '', '', '', '', '', '', '', '', '', '', '', '', '', '', '', '']"
      ]
     },
     "execution_count": 166,
     "metadata": {},
     "output_type": "execute_result"
    }
   ],
   "source": [
    "raw_lst"
   ]
  },
  {
   "cell_type": "code",
   "execution_count": 136,
   "metadata": {},
   "outputs": [
    {
     "data": {
      "text/html": [
       "<div>\n",
       "<style scoped>\n",
       "    .dataframe tbody tr th:only-of-type {\n",
       "        vertical-align: middle;\n",
       "    }\n",
       "\n",
       "    .dataframe tbody tr th {\n",
       "        vertical-align: top;\n",
       "    }\n",
       "\n",
       "    .dataframe thead th {\n",
       "        text-align: right;\n",
       "    }\n",
       "</style>\n",
       "<table border=\"1\" class=\"dataframe\">\n",
       "  <thead>\n",
       "    <tr style=\"text-align: right;\">\n",
       "      <th></th>\n",
       "      <th>검사분류코드</th>\n",
       "      <th>검사분류명</th>\n",
       "      <th>검사항목코드</th>\n",
       "      <th>검사항목명</th>\n",
       "      <th>참고치</th>\n",
       "      <th>단위</th>\n",
       "      <th>기본검체</th>\n",
       "      <th>검체용기 이미지</th>\n",
       "      <th>검체용기</th>\n",
       "      <th>주의사항</th>\n",
       "      <th>시행일</th>\n",
       "      <th>접수마감시간</th>\n",
       "      <th>보고소요시간</th>\n",
       "      <th>검사방법</th>\n",
       "      <th>검사의의</th>\n",
       "      <th>비고</th>\n",
       "      <th>동의어</th>\n",
       "      <th>오더가능여부</th>\n",
       "      <th>시행여부</th>\n",
       "    </tr>\n",
       "  </thead>\n",
       "  <tbody>\n",
       "    <tr>\n",
       "      <th>0</th>\n",
       "      <td>L43</td>\n",
       "      <td>미생물특수</td>\n",
       "      <td>L4326</td>\n",
       "      <td>Adenovirus IFA</td>\n",
       "      <td>Negative</td>\n",
       "      <td></td>\n",
       "      <td>Endotracheal Aspirate</td>\n",
       "      <td></td>\n",
       "      <td>ETA용기</td>\n",
       "      <td>면봉검체는 환부의 세포를 많이 취하여 IFA용 슬라이드의 구멍에 부드럽게 펴 바른다...</td>\n",
       "      <td>월-금</td>\n",
       "      <td>오후 1시</td>\n",
       "      <td>1~2일</td>\n",
       "      <td>직접 면역 형광 염색</td>\n",
       "      <td>폐렴 등 호흡기 감염을 주로 일으키는 혈청형의 adenovirus 항원을 검출. 대...</td>\n",
       "      <td></td>\n",
       "      <td>형광염색, IFA, DFA</td>\n",
       "      <td>예</td>\n",
       "      <td>시행중</td>\n",
       "    </tr>\n",
       "  </tbody>\n",
       "</table>\n",
       "</div>"
      ],
      "text/plain": [
       "  검사분류코드  검사분류명 검사항목코드           검사항목명       참고치 단위                   기본검체  \\\n",
       "0    L43  미생물특수  L4326  Adenovirus IFA  Negative     Endotracheal Aspirate   \n",
       "\n",
       "  검체용기 이미지   검체용기                                               주의사항  시행일  \\\n",
       "0           ETA용기  면봉검체는 환부의 세포를 많이 취하여 IFA용 슬라이드의 구멍에 부드럽게 펴 바른다...  월-금   \n",
       "\n",
       "  접수마감시간 보고소요시간         검사방법  \\\n",
       "0  오후 1시   1~2일  직접 면역 형광 염색   \n",
       "\n",
       "                                                검사의의 비고             동의어  \\\n",
       "0  폐렴 등 호흡기 감염을 주로 일으키는 혈청형의 adenovirus 항원을 검출. 대...     형광염색, IFA, DFA   \n",
       "\n",
       "  오더가능여부 시행여부  \n",
       "0      예  시행중  "
      ]
     },
     "execution_count": 136,
     "metadata": {},
     "output_type": "execute_result"
    }
   ],
   "source": []
  },
  {
   "cell_type": "code",
   "execution_count": 138,
   "metadata": {},
   "outputs": [],
   "source": [
    "df.to_csv('data/raw_lst.csv', encoding ='utf-8-sig')"
   ]
  },
  {
   "cell_type": "code",
   "execution_count": null,
   "metadata": {},
   "outputs": [],
   "source": []
  },
  {
   "cell_type": "code",
   "execution_count": null,
   "metadata": {},
   "outputs": [],
   "source": []
  },
  {
   "cell_type": "code",
   "execution_count": null,
   "metadata": {},
   "outputs": [],
   "source": [
    "# 검사명 클릭을 위한 설정\n",
    "strong_list = driver.find_elements_by_css_selector('strong')\n",
    "\n",
    "for i in range(len(strong_list)):\n",
    "    strong_list[i].click() #검사명 클릭\n",
    "    time.sleep(2)\n",
    "    td_lst = driver.find_elements_by_css_selector('td')\n",
    "    raw_lst =[]\n",
    "    for i in range(19):\n",
    "        data = td_lst[i].text\n",
    "        #print(data)\n",
    "        raw_lst.append(data)\n",
    "#    print(raw_lst)\n",
    "    df = df.append(pd.Series(raw_lst, index=df.columns), ignore_index=True)\n",
    "    time.sleep(2)\n",
    "    #break"
   ]
  },
  {
   "cell_type": "code",
   "execution_count": 152,
   "metadata": {},
   "outputs": [],
   "source": [
    "strong_list[0].click() #검사명 클릭\n",
    "td_lst = driver.find_elements_by_css_selector('td')\n",
    "raw_lst =[]\n",
    "for i in range(19):\n",
    "    data = td_lst[i].text\n",
    "    #print(data)\n",
    "    raw_lst.append(data)\n",
    "#    print(raw_lst)\n",
    "df = df.append(pd.Series(raw_lst, index=df.columns), ignore_index=True)"
   ]
  },
  {
   "cell_type": "code",
   "execution_count": 157,
   "metadata": {},
   "outputs": [],
   "source": [
    "strong_list[1].click() #검사명 클릭\n",
    "td_lst = driver.find_elements_by_css_selector('td')\n",
    "raw_lst =[]\n",
    "for i in range(19):\n",
    "    data = td_lst[i].text\n",
    "    #print(data)\n",
    "    raw_lst.append(data)\n",
    "#    print(raw_lst)\n",
    "df = df.append(pd.Series(raw_lst, index=df.columns), ignore_index=True)"
   ]
  },
  {
   "cell_type": "code",
   "execution_count": 158,
   "metadata": {},
   "outputs": [
    {
     "data": {
      "text/html": [
       "<div>\n",
       "<style scoped>\n",
       "    .dataframe tbody tr th:only-of-type {\n",
       "        vertical-align: middle;\n",
       "    }\n",
       "\n",
       "    .dataframe tbody tr th {\n",
       "        vertical-align: top;\n",
       "    }\n",
       "\n",
       "    .dataframe thead th {\n",
       "        text-align: right;\n",
       "    }\n",
       "</style>\n",
       "<table border=\"1\" class=\"dataframe\">\n",
       "  <thead>\n",
       "    <tr style=\"text-align: right;\">\n",
       "      <th></th>\n",
       "      <th>검사분류코드</th>\n",
       "      <th>검사분류명</th>\n",
       "      <th>검사항목코드</th>\n",
       "      <th>검사항목명</th>\n",
       "      <th>참고치</th>\n",
       "      <th>단위</th>\n",
       "      <th>기본검체</th>\n",
       "      <th>검체용기 이미지</th>\n",
       "      <th>검체용기</th>\n",
       "      <th>주의사항</th>\n",
       "      <th>시행일</th>\n",
       "      <th>접수마감시간</th>\n",
       "      <th>보고소요시간</th>\n",
       "      <th>검사방법</th>\n",
       "      <th>검사의의</th>\n",
       "      <th>비고</th>\n",
       "      <th>동의어</th>\n",
       "      <th>오더가능여부</th>\n",
       "      <th>시행여부</th>\n",
       "    </tr>\n",
       "  </thead>\n",
       "  <tbody>\n",
       "    <tr>\n",
       "      <th>0</th>\n",
       "      <td>L43</td>\n",
       "      <td>미생물특수</td>\n",
       "      <td>L4326</td>\n",
       "      <td>Adenovirus IFA</td>\n",
       "      <td>Negative</td>\n",
       "      <td></td>\n",
       "      <td>Endotracheal Aspirate</td>\n",
       "      <td></td>\n",
       "      <td>ETA용기</td>\n",
       "      <td>면봉검체는 환부의 세포를 많이 취하여 IFA용 슬라이드의 구멍에 부드럽게 펴 바른다...</td>\n",
       "      <td>월-금</td>\n",
       "      <td>오후 1시</td>\n",
       "      <td>1~2일</td>\n",
       "      <td>직접 면역 형광 염색</td>\n",
       "      <td>폐렴 등 호흡기 감염을 주로 일으키는 혈청형의 adenovirus 항원을 검출. 대...</td>\n",
       "      <td></td>\n",
       "      <td>형광염색, IFA, DFA</td>\n",
       "      <td>예</td>\n",
       "      <td>시행중</td>\n",
       "    </tr>\n",
       "    <tr>\n",
       "      <th>1</th>\n",
       "      <td></td>\n",
       "      <td></td>\n",
       "      <td></td>\n",
       "      <td></td>\n",
       "      <td></td>\n",
       "      <td></td>\n",
       "      <td></td>\n",
       "      <td></td>\n",
       "      <td></td>\n",
       "      <td></td>\n",
       "      <td></td>\n",
       "      <td></td>\n",
       "      <td></td>\n",
       "      <td></td>\n",
       "      <td></td>\n",
       "      <td></td>\n",
       "      <td></td>\n",
       "      <td></td>\n",
       "      <td></td>\n",
       "    </tr>\n",
       "    <tr>\n",
       "      <th>2</th>\n",
       "      <td></td>\n",
       "      <td></td>\n",
       "      <td></td>\n",
       "      <td></td>\n",
       "      <td></td>\n",
       "      <td></td>\n",
       "      <td></td>\n",
       "      <td></td>\n",
       "      <td></td>\n",
       "      <td></td>\n",
       "      <td></td>\n",
       "      <td></td>\n",
       "      <td></td>\n",
       "      <td></td>\n",
       "      <td></td>\n",
       "      <td></td>\n",
       "      <td></td>\n",
       "      <td></td>\n",
       "      <td></td>\n",
       "    </tr>\n",
       "    <tr>\n",
       "      <th>3</th>\n",
       "      <td></td>\n",
       "      <td></td>\n",
       "      <td></td>\n",
       "      <td></td>\n",
       "      <td></td>\n",
       "      <td></td>\n",
       "      <td></td>\n",
       "      <td></td>\n",
       "      <td></td>\n",
       "      <td></td>\n",
       "      <td></td>\n",
       "      <td></td>\n",
       "      <td></td>\n",
       "      <td></td>\n",
       "      <td></td>\n",
       "      <td></td>\n",
       "      <td></td>\n",
       "      <td></td>\n",
       "      <td></td>\n",
       "    </tr>\n",
       "    <tr>\n",
       "      <th>4</th>\n",
       "      <td></td>\n",
       "      <td></td>\n",
       "      <td></td>\n",
       "      <td></td>\n",
       "      <td></td>\n",
       "      <td></td>\n",
       "      <td></td>\n",
       "      <td></td>\n",
       "      <td></td>\n",
       "      <td></td>\n",
       "      <td></td>\n",
       "      <td></td>\n",
       "      <td></td>\n",
       "      <td></td>\n",
       "      <td></td>\n",
       "      <td></td>\n",
       "      <td></td>\n",
       "      <td></td>\n",
       "      <td></td>\n",
       "    </tr>\n",
       "    <tr>\n",
       "      <th>5</th>\n",
       "      <td></td>\n",
       "      <td></td>\n",
       "      <td></td>\n",
       "      <td></td>\n",
       "      <td></td>\n",
       "      <td></td>\n",
       "      <td></td>\n",
       "      <td></td>\n",
       "      <td></td>\n",
       "      <td></td>\n",
       "      <td></td>\n",
       "      <td></td>\n",
       "      <td></td>\n",
       "      <td></td>\n",
       "      <td></td>\n",
       "      <td></td>\n",
       "      <td></td>\n",
       "      <td></td>\n",
       "      <td></td>\n",
       "    </tr>\n",
       "    <tr>\n",
       "      <th>6</th>\n",
       "      <td></td>\n",
       "      <td></td>\n",
       "      <td></td>\n",
       "      <td></td>\n",
       "      <td></td>\n",
       "      <td></td>\n",
       "      <td></td>\n",
       "      <td></td>\n",
       "      <td></td>\n",
       "      <td></td>\n",
       "      <td></td>\n",
       "      <td></td>\n",
       "      <td></td>\n",
       "      <td></td>\n",
       "      <td></td>\n",
       "      <td></td>\n",
       "      <td></td>\n",
       "      <td></td>\n",
       "      <td></td>\n",
       "    </tr>\n",
       "    <tr>\n",
       "      <th>7</th>\n",
       "      <td></td>\n",
       "      <td></td>\n",
       "      <td></td>\n",
       "      <td></td>\n",
       "      <td></td>\n",
       "      <td></td>\n",
       "      <td></td>\n",
       "      <td></td>\n",
       "      <td></td>\n",
       "      <td></td>\n",
       "      <td></td>\n",
       "      <td></td>\n",
       "      <td></td>\n",
       "      <td></td>\n",
       "      <td></td>\n",
       "      <td></td>\n",
       "      <td></td>\n",
       "      <td></td>\n",
       "      <td></td>\n",
       "    </tr>\n",
       "    <tr>\n",
       "      <th>8</th>\n",
       "      <td></td>\n",
       "      <td></td>\n",
       "      <td></td>\n",
       "      <td></td>\n",
       "      <td></td>\n",
       "      <td></td>\n",
       "      <td></td>\n",
       "      <td></td>\n",
       "      <td></td>\n",
       "      <td></td>\n",
       "      <td></td>\n",
       "      <td></td>\n",
       "      <td></td>\n",
       "      <td></td>\n",
       "      <td></td>\n",
       "      <td></td>\n",
       "      <td></td>\n",
       "      <td></td>\n",
       "      <td></td>\n",
       "    </tr>\n",
       "    <tr>\n",
       "      <th>9</th>\n",
       "      <td></td>\n",
       "      <td></td>\n",
       "      <td></td>\n",
       "      <td></td>\n",
       "      <td></td>\n",
       "      <td></td>\n",
       "      <td></td>\n",
       "      <td></td>\n",
       "      <td></td>\n",
       "      <td></td>\n",
       "      <td></td>\n",
       "      <td></td>\n",
       "      <td></td>\n",
       "      <td></td>\n",
       "      <td></td>\n",
       "      <td></td>\n",
       "      <td></td>\n",
       "      <td></td>\n",
       "      <td></td>\n",
       "    </tr>\n",
       "    <tr>\n",
       "      <th>10</th>\n",
       "      <td></td>\n",
       "      <td></td>\n",
       "      <td></td>\n",
       "      <td></td>\n",
       "      <td></td>\n",
       "      <td></td>\n",
       "      <td></td>\n",
       "      <td></td>\n",
       "      <td></td>\n",
       "      <td></td>\n",
       "      <td></td>\n",
       "      <td></td>\n",
       "      <td></td>\n",
       "      <td></td>\n",
       "      <td></td>\n",
       "      <td></td>\n",
       "      <td></td>\n",
       "      <td></td>\n",
       "      <td></td>\n",
       "    </tr>\n",
       "    <tr>\n",
       "      <th>11</th>\n",
       "      <td>L43</td>\n",
       "      <td></td>\n",
       "      <td></td>\n",
       "      <td></td>\n",
       "      <td></td>\n",
       "      <td></td>\n",
       "      <td></td>\n",
       "      <td></td>\n",
       "      <td></td>\n",
       "      <td></td>\n",
       "      <td></td>\n",
       "      <td></td>\n",
       "      <td></td>\n",
       "      <td></td>\n",
       "      <td></td>\n",
       "      <td></td>\n",
       "      <td></td>\n",
       "      <td></td>\n",
       "      <td></td>\n",
       "    </tr>\n",
       "    <tr>\n",
       "      <th>12</th>\n",
       "      <td>L43</td>\n",
       "      <td>미생물특수</td>\n",
       "      <td>L4326</td>\n",
       "      <td>Adenovirus IFA</td>\n",
       "      <td>Negative</td>\n",
       "      <td></td>\n",
       "      <td>Endotracheal Aspirate</td>\n",
       "      <td></td>\n",
       "      <td>ETA용기</td>\n",
       "      <td>면봉검체는 환부의 세포를 많이 취하여 IFA용 슬라이드의 구멍에 부드럽게 펴 바른다...</td>\n",
       "      <td>월-금</td>\n",
       "      <td>오후 1시</td>\n",
       "      <td>1~2일</td>\n",
       "      <td>직접 면역 형광 염색</td>\n",
       "      <td>폐렴 등 호흡기 감염을 주로 일으키는 혈청형의 adenovirus 항원을 검출. 대...</td>\n",
       "      <td></td>\n",
       "      <td>형광염색, IFA, DFA</td>\n",
       "      <td>예</td>\n",
       "      <td>시행중</td>\n",
       "    </tr>\n",
       "    <tr>\n",
       "      <th>13</th>\n",
       "      <td>L43</td>\n",
       "      <td></td>\n",
       "      <td></td>\n",
       "      <td></td>\n",
       "      <td></td>\n",
       "      <td></td>\n",
       "      <td></td>\n",
       "      <td></td>\n",
       "      <td></td>\n",
       "      <td></td>\n",
       "      <td></td>\n",
       "      <td></td>\n",
       "      <td></td>\n",
       "      <td></td>\n",
       "      <td></td>\n",
       "      <td></td>\n",
       "      <td></td>\n",
       "      <td></td>\n",
       "      <td></td>\n",
       "    </tr>\n",
       "    <tr>\n",
       "      <th>14</th>\n",
       "      <td>L43</td>\n",
       "      <td>미생물특수</td>\n",
       "      <td>L4326</td>\n",
       "      <td>Adenovirus IFA</td>\n",
       "      <td>Negative</td>\n",
       "      <td></td>\n",
       "      <td>Endotracheal Aspirate</td>\n",
       "      <td></td>\n",
       "      <td>ETA용기</td>\n",
       "      <td>면봉검체는 환부의 세포를 많이 취하여 IFA용 슬라이드의 구멍에 부드럽게 펴 바른다...</td>\n",
       "      <td>월-금</td>\n",
       "      <td>오후 1시</td>\n",
       "      <td>1~2일</td>\n",
       "      <td>직접 면역 형광 염색</td>\n",
       "      <td>폐렴 등 호흡기 감염을 주로 일으키는 혈청형의 adenovirus 항원을 검출. 대...</td>\n",
       "      <td></td>\n",
       "      <td>형광염색, IFA, DFA</td>\n",
       "      <td>예</td>\n",
       "      <td>시행중</td>\n",
       "    </tr>\n",
       "    <tr>\n",
       "      <th>15</th>\n",
       "      <td></td>\n",
       "      <td></td>\n",
       "      <td></td>\n",
       "      <td></td>\n",
       "      <td></td>\n",
       "      <td></td>\n",
       "      <td></td>\n",
       "      <td></td>\n",
       "      <td></td>\n",
       "      <td></td>\n",
       "      <td></td>\n",
       "      <td></td>\n",
       "      <td></td>\n",
       "      <td></td>\n",
       "      <td></td>\n",
       "      <td></td>\n",
       "      <td></td>\n",
       "      <td></td>\n",
       "      <td></td>\n",
       "    </tr>\n",
       "  </tbody>\n",
       "</table>\n",
       "</div>"
      ],
      "text/plain": [
       "   검사분류코드  검사분류명 검사항목코드           검사항목명       참고치 단위                   기본검체  \\\n",
       "0     L43  미생물특수  L4326  Adenovirus IFA  Negative     Endotracheal Aspirate   \n",
       "1                                                                             \n",
       "2                                                                             \n",
       "3                                                                             \n",
       "4                                                                             \n",
       "5                                                                             \n",
       "6                                                                             \n",
       "7                                                                             \n",
       "8                                                                             \n",
       "9                                                                             \n",
       "10                                                                            \n",
       "11    L43                                                                     \n",
       "12    L43  미생물특수  L4326  Adenovirus IFA  Negative     Endotracheal Aspirate   \n",
       "13    L43                                                                     \n",
       "14    L43  미생물특수  L4326  Adenovirus IFA  Negative     Endotracheal Aspirate   \n",
       "15                                                                            \n",
       "\n",
       "   검체용기 이미지   검체용기                                               주의사항  시행일  \\\n",
       "0            ETA용기  면봉검체는 환부의 세포를 많이 취하여 IFA용 슬라이드의 구멍에 부드럽게 펴 바른다...  월-금   \n",
       "1                                                                            \n",
       "2                                                                            \n",
       "3                                                                            \n",
       "4                                                                            \n",
       "5                                                                            \n",
       "6                                                                            \n",
       "7                                                                            \n",
       "8                                                                            \n",
       "9                                                                            \n",
       "10                                                                           \n",
       "11                                                                           \n",
       "12           ETA용기  면봉검체는 환부의 세포를 많이 취하여 IFA용 슬라이드의 구멍에 부드럽게 펴 바른다...  월-금   \n",
       "13                                                                           \n",
       "14           ETA용기  면봉검체는 환부의 세포를 많이 취하여 IFA용 슬라이드의 구멍에 부드럽게 펴 바른다...  월-금   \n",
       "15                                                                           \n",
       "\n",
       "   접수마감시간 보고소요시간         검사방법  \\\n",
       "0   오후 1시   1~2일  직접 면역 형광 염색   \n",
       "1                               \n",
       "2                               \n",
       "3                               \n",
       "4                               \n",
       "5                               \n",
       "6                               \n",
       "7                               \n",
       "8                               \n",
       "9                               \n",
       "10                              \n",
       "11                              \n",
       "12  오후 1시   1~2일  직접 면역 형광 염색   \n",
       "13                              \n",
       "14  오후 1시   1~2일  직접 면역 형광 염색   \n",
       "15                              \n",
       "\n",
       "                                                 검사의의 비고             동의어  \\\n",
       "0   폐렴 등 호흡기 감염을 주로 일으키는 혈청형의 adenovirus 항원을 검출. 대...     형광염색, IFA, DFA   \n",
       "1                                                                          \n",
       "2                                                                          \n",
       "3                                                                          \n",
       "4                                                                          \n",
       "5                                                                          \n",
       "6                                                                          \n",
       "7                                                                          \n",
       "8                                                                          \n",
       "9                                                                          \n",
       "10                                                                         \n",
       "11                                                                         \n",
       "12  폐렴 등 호흡기 감염을 주로 일으키는 혈청형의 adenovirus 항원을 검출. 대...     형광염색, IFA, DFA   \n",
       "13                                                                         \n",
       "14  폐렴 등 호흡기 감염을 주로 일으키는 혈청형의 adenovirus 항원을 검출. 대...     형광염색, IFA, DFA   \n",
       "15                                                                         \n",
       "\n",
       "   오더가능여부 시행여부  \n",
       "0       예  시행중  \n",
       "1               \n",
       "2               \n",
       "3               \n",
       "4               \n",
       "5               \n",
       "6               \n",
       "7               \n",
       "8               \n",
       "9               \n",
       "10              \n",
       "11              \n",
       "12      예  시행중  \n",
       "13              \n",
       "14      예  시행중  \n",
       "15              "
      ]
     },
     "execution_count": 158,
     "metadata": {},
     "output_type": "execute_result"
    }
   ],
   "source": [
    "df"
   ]
  },
  {
   "cell_type": "code",
   "execution_count": null,
   "metadata": {},
   "outputs": [],
   "source": []
  },
  {
   "cell_type": "code",
   "execution_count": null,
   "metadata": {},
   "outputs": [],
   "source": []
  }
 ],
 "metadata": {
  "kernelspec": {
   "display_name": "Python 3",
   "language": "python",
   "name": "python3"
  },
  "language_info": {
   "codemirror_mode": {
    "name": "ipython",
    "version": 3
   },
   "file_extension": ".py",
   "mimetype": "text/x-python",
   "name": "python",
   "nbconvert_exporter": "python",
   "pygments_lexer": "ipython3",
   "version": "3.7.4"
  }
 },
 "nbformat": 4,
 "nbformat_minor": 5
}
