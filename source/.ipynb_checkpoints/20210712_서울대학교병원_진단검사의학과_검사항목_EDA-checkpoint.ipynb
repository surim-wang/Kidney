{
 "cells": [
  {
   "cell_type": "markdown",
   "metadata": {},
   "source": [
    "### 1. 라이브러리 로드"
   ]
  },
  {
   "cell_type": "code",
   "execution_count": 1,
   "metadata": {},
   "outputs": [],
   "source": [
    "import pandas as pd \n",
    "import os\n",
    "os.chdir('D:\\kidney')"
   ]
  },
  {
   "cell_type": "markdown",
   "metadata": {},
   "source": [
    "### 2. 데이터 로드"
   ]
  },
  {
   "cell_type": "code",
   "execution_count": 3,
   "metadata": {},
   "outputs": [
    {
     "data": {
      "text/html": [
       "<div>\n",
       "<style scoped>\n",
       "    .dataframe tbody tr th:only-of-type {\n",
       "        vertical-align: middle;\n",
       "    }\n",
       "\n",
       "    .dataframe tbody tr th {\n",
       "        vertical-align: top;\n",
       "    }\n",
       "\n",
       "    .dataframe thead th {\n",
       "        text-align: right;\n",
       "    }\n",
       "</style>\n",
       "<table border=\"1\" class=\"dataframe\">\n",
       "  <thead>\n",
       "    <tr style=\"text-align: right;\">\n",
       "      <th></th>\n",
       "      <th>검사분류코드</th>\n",
       "      <th>검사분류명</th>\n",
       "      <th>검사항목코드</th>\n",
       "      <th>검사항목명</th>\n",
       "      <th>참고치</th>\n",
       "      <th>단위</th>\n",
       "      <th>기본검체</th>\n",
       "      <th>검체용기 이미지</th>\n",
       "      <th>검체용기</th>\n",
       "      <th>주의사항</th>\n",
       "      <th>시행일</th>\n",
       "      <th>접수마감시간</th>\n",
       "      <th>보고소요시간</th>\n",
       "      <th>검사방법</th>\n",
       "      <th>검사의의</th>\n",
       "      <th>비고</th>\n",
       "      <th>동의어</th>\n",
       "      <th>오더가능여부</th>\n",
       "      <th>시행여부</th>\n",
       "    </tr>\n",
       "  </thead>\n",
       "  <tbody>\n",
       "    <tr>\n",
       "      <td>0</td>\n",
       "      <td>L43</td>\n",
       "      <td>미생물특수</td>\n",
       "      <td>L4326</td>\n",
       "      <td>Adenovirus IFA</td>\n",
       "      <td>Negative</td>\n",
       "      <td>NaN</td>\n",
       "      <td>Endotracheal Aspirate</td>\n",
       "      <td>이미지</td>\n",
       "      <td>ETA용기</td>\n",
       "      <td>면봉검체는 환부의 세포를 많이 취하여 IFA용 슬라이드의 구멍에 부드럽게 펴 바른다...</td>\n",
       "      <td>월-금</td>\n",
       "      <td>오후 1시</td>\n",
       "      <td>1~2일</td>\n",
       "      <td>직접 면역 형광 염색</td>\n",
       "      <td>폐렴 등 호흡기 감염을 주로 일으키는 혈청형의 adenovirus 항원을 검출. 대...</td>\n",
       "      <td>NaN</td>\n",
       "      <td>형광염색, IFA, DFA</td>\n",
       "      <td>예</td>\n",
       "      <td>시행중</td>\n",
       "    </tr>\n",
       "  </tbody>\n",
       "</table>\n",
       "</div>"
      ],
      "text/plain": [
       "  검사분류코드  검사분류명 검사항목코드           검사항목명       참고치   단위                   기본검체  \\\n",
       "0    L43  미생물특수  L4326  Adenovirus IFA  Negative  NaN  Endotracheal Aspirate   \n",
       "\n",
       "  검체용기 이미지   검체용기                                               주의사항  시행일  \\\n",
       "0      이미지  ETA용기  면봉검체는 환부의 세포를 많이 취하여 IFA용 슬라이드의 구멍에 부드럽게 펴 바른다...  월-금   \n",
       "\n",
       "  접수마감시간 보고소요시간         검사방법  \\\n",
       "0  오후 1시   1~2일  직접 면역 형광 염색   \n",
       "\n",
       "                                                검사의의   비고             동의어  \\\n",
       "0  폐렴 등 호흡기 감염을 주로 일으키는 혈청형의 adenovirus 항원을 검출. 대...  NaN  형광염색, IFA, DFA   \n",
       "\n",
       "  오더가능여부 시행여부  \n",
       "0      예  시행중  "
      ]
     },
     "execution_count": 3,
     "metadata": {},
     "output_type": "execute_result"
    }
   ],
   "source": [
    "data = pd.read_csv('data/서울대학교진단의학과_테이블_ver1.0.csv', encoding= 'utf-8-sig')\n",
    "data.head(1)"
   ]
  },
  {
   "cell_type": "markdown",
   "metadata": {},
   "source": [
    "### 3. 데이터 분석"
   ]
  },
  {
   "cell_type": "markdown",
   "metadata": {},
   "source": [
    "##### - 검사분류코드, 검사분류명 EDA "
   ]
  },
  {
   "cell_type": "code",
   "execution_count": 10,
   "metadata": {},
   "outputs": [],
   "source": [
    "#data.iloc[:,[0,1,2,3]]\n",
    "classification_code = data.iloc[:,[0,1]]\n",
    "classification_code_duplicates = classification_code.drop_duplicates().sort_values(by='검사분류코드').reset_index().drop(['index'], axis=1)\n",
    "classification_code_duplicates.to_csv('data/meta_검사분류코드_검사분류명.csv', encoding='utf-8-sig', index = False)"
   ]
  },
  {
   "cell_type": "markdown",
   "metadata": {},
   "source": [
    "##### - 검사항목코드, 검사항목명 EDA "
   ]
  },
  {
   "cell_type": "code",
   "execution_count": 12,
   "metadata": {},
   "outputs": [],
   "source": [
    "item_code = data.iloc[:,[2,3]]\n",
    "item_code_duplicates = item_code.drop_duplicates().sort_values(by='검사항목코드').reset_index().drop(['index'], axis=1)\n",
    "item_code_duplicates.to_csv('data/meta_검사항목코드_검사항목명.csv', encoding='utf-8-sig', index = False)"
   ]
  },
  {
   "cell_type": "markdown",
   "metadata": {},
   "source": [
    "##### - 검사항목코드, 검사항목명 EDA + 검사분류명 + 검사분류코드 "
   ]
  },
  {
   "cell_type": "code",
   "execution_count": 13,
   "metadata": {},
   "outputs": [],
   "source": [
    "item_code = data.iloc[:,[2,3,0,1]]\n",
    "item_code_duplicates = item_code.drop_duplicates().sort_values(by='검사항목코드').reset_index().drop(['index'], axis=1)\n",
    "item_code_duplicates.to_csv('data/meta_검사항목코드_검사항목명_add_검사항목코드_검사항목명.csv', encoding='utf-8-sig', index = False)"
   ]
  },
  {
   "cell_type": "markdown",
   "metadata": {},
   "source": [
    "##### 풀이:\n",
    "##### 검사항목 코드는 영어 + 숫자 2자리로 구성된다.(수혈은 M, 나머지는 L로 시작)\n",
    "##### 검사항목코드 + 2자리 번호로 구성이 된다.\n",
    "##### 2자리를 넘어가게 되면 검사항목 코드에 +1 한다.\n",
    "\n",
    "##### 대세는 위와 같이 구성되며 예외도 있다.\n",
    "##### 신장데이터 서비스에서도 위의 내용은 위주로 구성하려한다."
   ]
  },
  {
   "cell_type": "code",
   "execution_count": null,
   "metadata": {},
   "outputs": [],
   "source": [
    "\n"
   ]
  },
  {
   "cell_type": "code",
   "execution_count": null,
   "metadata": {},
   "outputs": [],
   "source": []
  }
 ],
 "metadata": {
  "kernelspec": {
   "display_name": "Python 3",
   "language": "python",
   "name": "python3"
  },
  "language_info": {
   "codemirror_mode": {
    "name": "ipython",
    "version": 3
   },
   "file_extension": ".py",
   "mimetype": "text/x-python",
   "name": "python",
   "nbconvert_exporter": "python",
   "pygments_lexer": "ipython3",
   "version": "3.7.4"
  }
 },
 "nbformat": 4,
 "nbformat_minor": 2
}
