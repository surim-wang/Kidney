{
 "cells": [
  {
   "cell_type": "markdown",
   "metadata": {},
   "source": [
    "# 신장의무기록사본 OCR 서비스 구현"
   ]
  },
  {
   "cell_type": "markdown",
   "metadata": {},
   "source": [
    "# 1. 라이브러리 로드"
   ]
  },
  {
   "cell_type": "code",
   "execution_count": 1,
   "metadata": {},
   "outputs": [],
   "source": [
    "from glob import glob\n",
    "import pandas as pd\n",
    "import cv2\n",
    "import numpy as np\n",
    "import math\n",
    "\n",
    "from tensorflow.keras.models import load_model\n",
    "import efficientnet.tfkeras # for swish\n",
    "import tensorflow as tf\n",
    "import json\n",
    "\n",
    "import os\n",
    "os.chdir('D:/kidney/source')"
   ]
  },
  {
   "cell_type": "markdown",
   "metadata": {},
   "source": [
    "# 2. 모델 로드"
   ]
  },
  {
   "cell_type": "code",
   "execution_count": 2,
   "metadata": {},
   "outputs": [
    {
     "name": "stdout",
     "output_type": "stream",
     "text": [
      "WARNING:tensorflow:From C:\\Users\\SURIMWANG\\Anaconda3\\lib\\site-packages\\tensorflow_core\\python\\ops\\init_ops.py:97: calling GlorotUniform.__init__ (from tensorflow.python.ops.init_ops) with dtype is deprecated and will be removed in a future version.\n",
      "Instructions for updating:\n",
      "Call initializer instance with the dtype argument instead of passing it to the constructor\n",
      "WARNING:tensorflow:From C:\\Users\\SURIMWANG\\Anaconda3\\lib\\site-packages\\tensorflow_core\\python\\ops\\init_ops.py:97: calling Zeros.__init__ (from tensorflow.python.ops.init_ops) with dtype is deprecated and will be removed in a future version.\n",
      "Instructions for updating:\n",
      "Call initializer instance with the dtype argument instead of passing it to the constructor\n",
      "WARNING:tensorflow:From C:\\Users\\SURIMWANG\\Anaconda3\\lib\\site-packages\\tensorflow_core\\python\\ops\\resource_variable_ops.py:1630: calling BaseResourceVariable.__init__ (from tensorflow.python.ops.resource_variable_ops) with constraint is deprecated and will be removed in a future version.\n",
      "Instructions for updating:\n",
      "If using Keras pass *_constraint arguments to layers.\n"
     ]
    }
   ],
   "source": [
    "model = load_model('../model/OCR_ver1.0.h5')"
   ]
  },
  {
   "cell_type": "markdown",
   "metadata": {},
   "source": [
    "# 3. 예측 준비 작업"
   ]
  },
  {
   "cell_type": "markdown",
   "metadata": {},
   "source": [
    "### 3-1. 함수"
   ]
  },
  {
   "cell_type": "code",
   "execution_count": 3,
   "metadata": {},
   "outputs": [],
   "source": [
    "def border_make(image):\n",
    "    row, col = image.shape[:2]\n",
    "    bottom = image[row-2:row, 0:col]\n",
    "    mean = cv2.mean(bottom)[0]\n",
    "    \n",
    "    col_bordersize = (55-col)/2\n",
    "    row_bordersize = (55-row)/2\n",
    "    \n",
    "    border = cv2.copyMakeBorder(\n",
    "        image,\n",
    "        top = math.ceil(row_bordersize),\n",
    "        bottom = math.floor(row_bordersize),\n",
    "        left = math.ceil(col_bordersize),\n",
    "        right = math.floor(col_bordersize),\n",
    "        borderType = cv2.BORDER_ISOLATED, #BORDER_ISOLATED  BORDER_CONSTANT\n",
    "        value = [mean, mean, mean]\n",
    "    )\n",
    "    return border"
   ]
  },
  {
   "cell_type": "markdown",
   "metadata": {},
   "source": [
    "### 3-2. Y_test"
   ]
  },
  {
   "cell_type": "code",
   "execution_count": 4,
   "metadata": {},
   "outputs": [],
   "source": [
    "# 예측 데이터 레이블 값 #Y_test # actual_value_lst\n",
    "Y_test = pd.read_csv('../data/Y_test.csv', encoding='utf-8-sig') #Y_test = ['.','1','1','8','1','0','2','3','/','희','찬','0','자','출','명','증','본','의','력','다','합','을','음','없','림','틀','과','의','록','무','은','니','본','사','한','부','첨','~','~','~','~']\n",
    "Y_test = list(Y_test['col_names'])"
   ]
  },
  {
   "cell_type": "markdown",
   "metadata": {},
   "source": [
    "pd.DataFrame(data = Y_test, columns=['col_names']).to_csv('../data/Y_test.csv', index = False, encoding='utf-8-sig')"
   ]
  },
  {
   "cell_type": "markdown",
   "metadata": {},
   "source": [
    "### 3-3. Y_train_unique"
   ]
  },
  {
   "cell_type": "code",
   "execution_count": 5,
   "metadata": {},
   "outputs": [],
   "source": [
    "Y_train_unique = pd.read_csv('../data/Y_train_unique.csv', encoding= 'utf-8-sig').loc[:, '0']  # list # 122        # Y_train_columns = Y_train_columns.loc[:, '0']         # Y_train_columns > Y_train_unique "
   ]
  },
  {
   "cell_type": "markdown",
   "metadata": {},
   "source": [
    "# 4. 예측 데이터 불러오기"
   ]
  },
  {
   "cell_type": "code",
   "execution_count": 6,
   "metadata": {},
   "outputs": [],
   "source": [
    "predict_lst = glob('D:/kidney/image/forPredict/*.png') "
   ]
  },
  {
   "cell_type": "code",
   "execution_count": 7,
   "metadata": {},
   "outputs": [
    {
     "data": {
      "text/plain": [
       "(41, 55, 55, 1)"
      ]
     },
     "execution_count": 7,
     "metadata": {},
     "output_type": "execute_result"
    }
   ],
   "source": [
    "img_lst = []\n",
    "for predict_lst_num in range(len(predict_lst)):\n",
    "    image = cv2.imread(predict_lst[predict_lst_num], cv2.IMREAD_COLOR)\n",
    "    img = border_make(image)\n",
    "    dst = cv2.cvtColor(img, cv2.COLOR_BGR2GRAY)\n",
    "    ret ,img = cv2.threshold(dst,127,255,0)\n",
    "    img_lst.append(img)\n",
    "    img_array = np.array(img_lst)\n",
    "img_array_reshape = img_array.reshape(-1,55,55,1)\n",
    "X_test = img_array_reshape\n",
    "X_test.shape"
   ]
  },
  {
   "cell_type": "markdown",
   "metadata": {},
   "source": [
    "# 5. 예측"
   ]
  },
  {
   "cell_type": "markdown",
   "metadata": {},
   "source": [
    "### 5-1. 예측 확률을 데이터프레임 형태로 출력"
   ]
  },
  {
   "cell_type": "code",
   "execution_count": 29,
   "metadata": {
    "scrolled": true
   },
   "outputs": [
    {
     "data": {
      "text/html": [
       "<div>\n",
       "<style scoped>\n",
       "    .dataframe tbody tr th:only-of-type {\n",
       "        vertical-align: middle;\n",
       "    }\n",
       "\n",
       "    .dataframe tbody tr th {\n",
       "        vertical-align: top;\n",
       "    }\n",
       "\n",
       "    .dataframe thead th {\n",
       "        text-align: right;\n",
       "    }\n",
       "</style>\n",
       "<table border=\"1\" class=\"dataframe\">\n",
       "  <thead>\n",
       "    <tr style=\"text-align: right;\">\n",
       "      <th></th>\n",
       "      <th>0</th>\n",
       "      <th>1</th>\n",
       "      <th>2</th>\n",
       "      <th>3</th>\n",
       "      <th>4</th>\n",
       "      <th>5</th>\n",
       "      <th>6</th>\n",
       "      <th>7</th>\n",
       "      <th>8</th>\n",
       "      <th>9</th>\n",
       "      <th>...</th>\n",
       "      <th>112</th>\n",
       "      <th>113</th>\n",
       "      <th>114</th>\n",
       "      <th>115</th>\n",
       "      <th>116</th>\n",
       "      <th>117</th>\n",
       "      <th>118</th>\n",
       "      <th>119</th>\n",
       "      <th>120</th>\n",
       "      <th>121</th>\n",
       "    </tr>\n",
       "  </thead>\n",
       "  <tbody>\n",
       "    <tr>\n",
       "      <th>0</th>\n",
       "      <td>4.018439e-03</td>\n",
       "      <td>4.012331e-03</td>\n",
       "      <td>1.875072e-03</td>\n",
       "      <td>4.730043e-03</td>\n",
       "      <td>3.105285e-02</td>\n",
       "      <td>0.087583</td>\n",
       "      <td>3.998162e-02</td>\n",
       "      <td>0.009099</td>\n",
       "      <td>0.035988</td>\n",
       "      <td>4.684531e-03</td>\n",
       "      <td>...</td>\n",
       "      <td>6.197036e-03</td>\n",
       "      <td>2.138751e-03</td>\n",
       "      <td>7.144580e-03</td>\n",
       "      <td>3.532618e-03</td>\n",
       "      <td>3.543430e-03</td>\n",
       "      <td>1.008884e-02</td>\n",
       "      <td>3.532248e-03</td>\n",
       "      <td>4.076332e-03</td>\n",
       "      <td>2.534816e-03</td>\n",
       "      <td>1.328062e-03</td>\n",
       "    </tr>\n",
       "    <tr>\n",
       "      <th>1</th>\n",
       "      <td>3.440813e-10</td>\n",
       "      <td>2.024830e-02</td>\n",
       "      <td>3.075334e-16</td>\n",
       "      <td>4.972157e-08</td>\n",
       "      <td>1.159422e-04</td>\n",
       "      <td>0.000017</td>\n",
       "      <td>4.488513e-14</td>\n",
       "      <td>0.000056</td>\n",
       "      <td>0.745508</td>\n",
       "      <td>1.287353e-10</td>\n",
       "      <td>...</td>\n",
       "      <td>1.682235e-12</td>\n",
       "      <td>4.915690e-07</td>\n",
       "      <td>5.469886e-15</td>\n",
       "      <td>1.059483e-09</td>\n",
       "      <td>4.938166e-10</td>\n",
       "      <td>3.891970e-09</td>\n",
       "      <td>2.218907e-12</td>\n",
       "      <td>4.229805e-09</td>\n",
       "      <td>8.172111e-09</td>\n",
       "      <td>2.062717e-09</td>\n",
       "    </tr>\n",
       "    <tr>\n",
       "      <th>2</th>\n",
       "      <td>6.286983e-04</td>\n",
       "      <td>1.368758e-03</td>\n",
       "      <td>9.797497e-03</td>\n",
       "      <td>8.863497e-05</td>\n",
       "      <td>1.316238e-03</td>\n",
       "      <td>0.000275</td>\n",
       "      <td>7.035227e-05</td>\n",
       "      <td>0.070739</td>\n",
       "      <td>0.290929</td>\n",
       "      <td>1.980577e-04</td>\n",
       "      <td>...</td>\n",
       "      <td>1.651043e-04</td>\n",
       "      <td>1.092544e-04</td>\n",
       "      <td>2.673087e-04</td>\n",
       "      <td>2.708556e-05</td>\n",
       "      <td>3.540422e-03</td>\n",
       "      <td>1.118313e-02</td>\n",
       "      <td>7.568792e-06</td>\n",
       "      <td>1.202097e-04</td>\n",
       "      <td>2.122431e-04</td>\n",
       "      <td>4.652883e-04</td>\n",
       "    </tr>\n",
       "    <tr>\n",
       "      <th>3</th>\n",
       "      <td>4.444835e-06</td>\n",
       "      <td>3.779002e-13</td>\n",
       "      <td>3.180779e-06</td>\n",
       "      <td>1.244283e-04</td>\n",
       "      <td>2.455803e-07</td>\n",
       "      <td>0.000002</td>\n",
       "      <td>2.753349e-04</td>\n",
       "      <td>0.005923</td>\n",
       "      <td>0.010731</td>\n",
       "      <td>1.745171e-01</td>\n",
       "      <td>...</td>\n",
       "      <td>2.941164e-10</td>\n",
       "      <td>5.525878e-09</td>\n",
       "      <td>9.831428e-15</td>\n",
       "      <td>1.858534e-07</td>\n",
       "      <td>2.311413e-07</td>\n",
       "      <td>2.016371e-13</td>\n",
       "      <td>1.770037e-14</td>\n",
       "      <td>1.979940e-10</td>\n",
       "      <td>1.717215e-07</td>\n",
       "      <td>6.887475e-13</td>\n",
       "    </tr>\n",
       "    <tr>\n",
       "      <th>4</th>\n",
       "      <td>1.128022e-09</td>\n",
       "      <td>7.999078e-04</td>\n",
       "      <td>3.734640e-16</td>\n",
       "      <td>1.197654e-08</td>\n",
       "      <td>3.292283e-05</td>\n",
       "      <td>0.000002</td>\n",
       "      <td>1.181726e-13</td>\n",
       "      <td>0.000009</td>\n",
       "      <td>0.963554</td>\n",
       "      <td>1.973100e-11</td>\n",
       "      <td>...</td>\n",
       "      <td>2.087074e-13</td>\n",
       "      <td>6.305231e-07</td>\n",
       "      <td>3.007527e-15</td>\n",
       "      <td>4.991607e-11</td>\n",
       "      <td>4.465361e-10</td>\n",
       "      <td>4.580045e-09</td>\n",
       "      <td>3.145127e-13</td>\n",
       "      <td>6.694153e-10</td>\n",
       "      <td>2.604812e-09</td>\n",
       "      <td>1.239520e-10</td>\n",
       "    </tr>\n",
       "  </tbody>\n",
       "</table>\n",
       "<p>5 rows × 122 columns</p>\n",
       "</div>"
      ],
      "text/plain": [
       "            0             1             2             3             4    \\\n",
       "0  4.018439e-03  4.012331e-03  1.875072e-03  4.730043e-03  3.105285e-02   \n",
       "1  3.440813e-10  2.024830e-02  3.075334e-16  4.972157e-08  1.159422e-04   \n",
       "2  6.286983e-04  1.368758e-03  9.797497e-03  8.863497e-05  1.316238e-03   \n",
       "3  4.444835e-06  3.779002e-13  3.180779e-06  1.244283e-04  2.455803e-07   \n",
       "4  1.128022e-09  7.999078e-04  3.734640e-16  1.197654e-08  3.292283e-05   \n",
       "\n",
       "        5             6         7         8             9    ...  \\\n",
       "0  0.087583  3.998162e-02  0.009099  0.035988  4.684531e-03  ...   \n",
       "1  0.000017  4.488513e-14  0.000056  0.745508  1.287353e-10  ...   \n",
       "2  0.000275  7.035227e-05  0.070739  0.290929  1.980577e-04  ...   \n",
       "3  0.000002  2.753349e-04  0.005923  0.010731  1.745171e-01  ...   \n",
       "4  0.000002  1.181726e-13  0.000009  0.963554  1.973100e-11  ...   \n",
       "\n",
       "            112           113           114           115           116  \\\n",
       "0  6.197036e-03  2.138751e-03  7.144580e-03  3.532618e-03  3.543430e-03   \n",
       "1  1.682235e-12  4.915690e-07  5.469886e-15  1.059483e-09  4.938166e-10   \n",
       "2  1.651043e-04  1.092544e-04  2.673087e-04  2.708556e-05  3.540422e-03   \n",
       "3  2.941164e-10  5.525878e-09  9.831428e-15  1.858534e-07  2.311413e-07   \n",
       "4  2.087074e-13  6.305231e-07  3.007527e-15  4.991607e-11  4.465361e-10   \n",
       "\n",
       "            117           118           119           120           121  \n",
       "0  1.008884e-02  3.532248e-03  4.076332e-03  2.534816e-03  1.328062e-03  \n",
       "1  3.891970e-09  2.218907e-12  4.229805e-09  8.172111e-09  2.062717e-09  \n",
       "2  1.118313e-02  7.568792e-06  1.202097e-04  2.122431e-04  4.652883e-04  \n",
       "3  2.016371e-13  1.770037e-14  1.979940e-10  1.717215e-07  6.887475e-13  \n",
       "4  4.580045e-09  3.145127e-13  6.694153e-10  2.604812e-09  1.239520e-10  \n",
       "\n",
       "[5 rows x 122 columns]"
      ]
     },
     "execution_count": 29,
     "metadata": {},
     "output_type": "execute_result"
    }
   ],
   "source": [
    "pred = model.predict(X_test) # 41 \n",
    "#pred_df = pd.DataFrame(pred).round(2) #(41, 122)\n",
    "pred_df = pd.DataFrame(pred)#.round(2) #(41, 122)\n",
    "pred_df.head()"
   ]
  },
  {
   "cell_type": "markdown",
   "metadata": {},
   "source": [
    "### 5-1-1. 실제와 예측 값 간단하게 비교"
   ]
  },
  {
   "cell_type": "code",
   "execution_count": 30,
   "metadata": {},
   "outputs": [],
   "source": [
    "### 최고 확률 컬럼 알아내기\n",
    "\n",
    "pred_lst = [] #list # 41\n",
    "for row in range(len(pred_df)):\n",
    "    #pred_col_num = pred_df.loc[:,pred_df.loc[row] == round(pred_df.iloc[row],2).max()].columns[0]\n",
    "    pred_col_num = pred_df.loc[:,pred_df.loc[row] == pred_df.iloc[row].max()].columns[0]\n",
    "    pred_lst.append(pred_col_num)"
   ]
  },
  {
   "cell_type": "markdown",
   "metadata": {},
   "source": [
    "pd.DataFrame(data= pred_df.iloc[0,:]).to_csv('../data/testtesttest.csv')"
   ]
  },
  {
   "cell_type": "code",
   "execution_count": 12,
   "metadata": {},
   "outputs": [],
   "source": [
    "### 가장 높게 예측된 확률을 label로 바꾸기\n",
    "\n",
    "predict_lst = [] # list # 41\n",
    "for i, column_num in enumerate(pred_lst):\n",
    "    predict_lst.append(Y_train_unique[column_num])"
   ]
  },
  {
   "cell_type": "code",
   "execution_count": 49,
   "metadata": {},
   "outputs": [],
   "source": [
    "### 최고 확률 컬럼 \n",
    "probability_lst = []\n",
    "for row in range(len(pred_df)):\n",
    "    percentage = round(pred_df.iloc[row,:].max()*100,3)\n",
    "    probability_lst.append(percentage)"
   ]
  },
  {
   "cell_type": "markdown",
   "metadata": {},
   "source": [
    "### EDA 추가 코드"
   ]
  },
  {
   "cell_type": "code",
   "execution_count": 51,
   "metadata": {},
   "outputs": [
    {
     "data": {
      "text/html": [
       "<div>\n",
       "<style scoped>\n",
       "    .dataframe tbody tr th:only-of-type {\n",
       "        vertical-align: middle;\n",
       "    }\n",
       "\n",
       "    .dataframe tbody tr th {\n",
       "        vertical-align: top;\n",
       "    }\n",
       "\n",
       "    .dataframe thead th {\n",
       "        text-align: right;\n",
       "    }\n",
       "</style>\n",
       "<table border=\"1\" class=\"dataframe\">\n",
       "  <thead>\n",
       "    <tr style=\"text-align: right;\">\n",
       "      <th></th>\n",
       "      <th>predict</th>\n",
       "      <th>actual</th>\n",
       "      <th>probability</th>\n",
       "    </tr>\n",
       "  </thead>\n",
       "  <tbody>\n",
       "    <tr>\n",
       "      <th>0</th>\n",
       "      <td>.</td>\n",
       "      <td>.</td>\n",
       "      <td>8.758</td>\n",
       "    </tr>\n",
       "    <tr>\n",
       "      <th>1</th>\n",
       "      <td>1</td>\n",
       "      <td>1</td>\n",
       "      <td>74.551</td>\n",
       "    </tr>\n",
       "    <tr>\n",
       "      <th>2</th>\n",
       "      <td>1</td>\n",
       "      <td>1</td>\n",
       "      <td>29.093</td>\n",
       "    </tr>\n",
       "    <tr>\n",
       "      <th>3</th>\n",
       "      <td>x</td>\n",
       "      <td>8</td>\n",
       "      <td>50.648</td>\n",
       "    </tr>\n",
       "    <tr>\n",
       "      <th>4</th>\n",
       "      <td>1</td>\n",
       "      <td>1</td>\n",
       "      <td>96.355</td>\n",
       "    </tr>\n",
       "    <tr>\n",
       "      <th>5</th>\n",
       "      <td>0</td>\n",
       "      <td>0</td>\n",
       "      <td>79.204</td>\n",
       "    </tr>\n",
       "    <tr>\n",
       "      <th>6</th>\n",
       "      <td>1</td>\n",
       "      <td>2</td>\n",
       "      <td>94.778</td>\n",
       "    </tr>\n",
       "    <tr>\n",
       "      <th>7</th>\n",
       "      <td>3</td>\n",
       "      <td>3</td>\n",
       "      <td>85.731</td>\n",
       "    </tr>\n",
       "    <tr>\n",
       "      <th>8</th>\n",
       "      <td>/</td>\n",
       "      <td>/</td>\n",
       "      <td>70.107</td>\n",
       "    </tr>\n",
       "    <tr>\n",
       "      <th>9</th>\n",
       "      <td>1</td>\n",
       "      <td>희</td>\n",
       "      <td>90.826</td>\n",
       "    </tr>\n",
       "    <tr>\n",
       "      <th>10</th>\n",
       "      <td>I</td>\n",
       "      <td>찬</td>\n",
       "      <td>48.599</td>\n",
       "    </tr>\n",
       "    <tr>\n",
       "      <th>11</th>\n",
       "      <td>0</td>\n",
       "      <td>0</td>\n",
       "      <td>99.072</td>\n",
       "    </tr>\n",
       "    <tr>\n",
       "      <th>12</th>\n",
       "      <td>~</td>\n",
       "      <td>자</td>\n",
       "      <td>50.345</td>\n",
       "    </tr>\n",
       "    <tr>\n",
       "      <th>13</th>\n",
       "      <td>a</td>\n",
       "      <td>출</td>\n",
       "      <td>96.608</td>\n",
       "    </tr>\n",
       "    <tr>\n",
       "      <th>14</th>\n",
       "      <td>력</td>\n",
       "      <td>명</td>\n",
       "      <td>43.713</td>\n",
       "    </tr>\n",
       "    <tr>\n",
       "      <th>15</th>\n",
       "      <td>C</td>\n",
       "      <td>증</td>\n",
       "      <td>66.110</td>\n",
       "    </tr>\n",
       "    <tr>\n",
       "      <th>16</th>\n",
       "      <td>호</td>\n",
       "      <td>본</td>\n",
       "      <td>43.706</td>\n",
       "    </tr>\n",
       "    <tr>\n",
       "      <th>17</th>\n",
       "      <td>4</td>\n",
       "      <td>의</td>\n",
       "      <td>89.464</td>\n",
       "    </tr>\n",
       "    <tr>\n",
       "      <th>18</th>\n",
       "      <td>일</td>\n",
       "      <td>력</td>\n",
       "      <td>60.459</td>\n",
       "    </tr>\n",
       "    <tr>\n",
       "      <th>19</th>\n",
       "      <td>자</td>\n",
       "      <td>다</td>\n",
       "      <td>89.257</td>\n",
       "    </tr>\n",
       "    <tr>\n",
       "      <th>20</th>\n",
       "      <td>호</td>\n",
       "      <td>합</td>\n",
       "      <td>88.082</td>\n",
       "    </tr>\n",
       "    <tr>\n",
       "      <th>21</th>\n",
       "      <td>결</td>\n",
       "      <td>을</td>\n",
       "      <td>63.488</td>\n",
       "    </tr>\n",
       "    <tr>\n",
       "      <th>22</th>\n",
       "      <td>3</td>\n",
       "      <td>음</td>\n",
       "      <td>61.283</td>\n",
       "    </tr>\n",
       "    <tr>\n",
       "      <th>23</th>\n",
       "      <td>/</td>\n",
       "      <td>없</td>\n",
       "      <td>81.996</td>\n",
       "    </tr>\n",
       "    <tr>\n",
       "      <th>24</th>\n",
       "      <td>1</td>\n",
       "      <td>림</td>\n",
       "      <td>97.829</td>\n",
       "    </tr>\n",
       "    <tr>\n",
       "      <th>25</th>\n",
       "      <td>4</td>\n",
       "      <td>틀</td>\n",
       "      <td>98.256</td>\n",
       "    </tr>\n",
       "    <tr>\n",
       "      <th>26</th>\n",
       "      <td>의</td>\n",
       "      <td>과</td>\n",
       "      <td>42.575</td>\n",
       "    </tr>\n",
       "    <tr>\n",
       "      <th>27</th>\n",
       "      <td>의</td>\n",
       "      <td>의</td>\n",
       "      <td>99.140</td>\n",
       "    </tr>\n",
       "    <tr>\n",
       "      <th>28</th>\n",
       "      <td>호</td>\n",
       "      <td>록</td>\n",
       "      <td>94.388</td>\n",
       "    </tr>\n",
       "    <tr>\n",
       "      <th>29</th>\n",
       "      <td>H</td>\n",
       "      <td>무</td>\n",
       "      <td>26.081</td>\n",
       "    </tr>\n",
       "    <tr>\n",
       "      <th>30</th>\n",
       "      <td>O</td>\n",
       "      <td>은</td>\n",
       "      <td>77.453</td>\n",
       "    </tr>\n",
       "    <tr>\n",
       "      <th>31</th>\n",
       "      <td>M</td>\n",
       "      <td>니</td>\n",
       "      <td>58.363</td>\n",
       "    </tr>\n",
       "    <tr>\n",
       "      <th>32</th>\n",
       "      <td>M</td>\n",
       "      <td>본</td>\n",
       "      <td>25.583</td>\n",
       "    </tr>\n",
       "    <tr>\n",
       "      <th>33</th>\n",
       "      <td>사</td>\n",
       "      <td>사</td>\n",
       "      <td>50.670</td>\n",
       "    </tr>\n",
       "    <tr>\n",
       "      <th>34</th>\n",
       "      <td>M</td>\n",
       "      <td>한</td>\n",
       "      <td>74.605</td>\n",
       "    </tr>\n",
       "    <tr>\n",
       "      <th>35</th>\n",
       "      <td>o</td>\n",
       "      <td>부</td>\n",
       "      <td>85.843</td>\n",
       "    </tr>\n",
       "    <tr>\n",
       "      <th>36</th>\n",
       "      <td>1</td>\n",
       "      <td>첨</td>\n",
       "      <td>81.041</td>\n",
       "    </tr>\n",
       "    <tr>\n",
       "      <th>37</th>\n",
       "      <td>H</td>\n",
       "      <td>~</td>\n",
       "      <td>18.484</td>\n",
       "    </tr>\n",
       "    <tr>\n",
       "      <th>38</th>\n",
       "      <td>A</td>\n",
       "      <td>~</td>\n",
       "      <td>9.211</td>\n",
       "    </tr>\n",
       "    <tr>\n",
       "      <th>39</th>\n",
       "      <td>니</td>\n",
       "      <td>~</td>\n",
       "      <td>5.582</td>\n",
       "    </tr>\n",
       "    <tr>\n",
       "      <th>40</th>\n",
       "      <td>o</td>\n",
       "      <td>~</td>\n",
       "      <td>6.615</td>\n",
       "    </tr>\n",
       "  </tbody>\n",
       "</table>\n",
       "</div>"
      ],
      "text/plain": [
       "   predict actual  probability\n",
       "0        .      .        8.758\n",
       "1        1      1       74.551\n",
       "2        1      1       29.093\n",
       "3        x      8       50.648\n",
       "4        1      1       96.355\n",
       "5        0      0       79.204\n",
       "6        1      2       94.778\n",
       "7        3      3       85.731\n",
       "8        /      /       70.107\n",
       "9        1      희       90.826\n",
       "10       I      찬       48.599\n",
       "11       0      0       99.072\n",
       "12       ~      자       50.345\n",
       "13       a      출       96.608\n",
       "14       력      명       43.713\n",
       "15       C      증       66.110\n",
       "16       호      본       43.706\n",
       "17       4      의       89.464\n",
       "18       일      력       60.459\n",
       "19       자      다       89.257\n",
       "20       호      합       88.082\n",
       "21       결      을       63.488\n",
       "22       3      음       61.283\n",
       "23       /      없       81.996\n",
       "24       1      림       97.829\n",
       "25       4      틀       98.256\n",
       "26       의      과       42.575\n",
       "27       의      의       99.140\n",
       "28       호      록       94.388\n",
       "29       H      무       26.081\n",
       "30       O      은       77.453\n",
       "31       M      니       58.363\n",
       "32       M      본       25.583\n",
       "33       사      사       50.670\n",
       "34       M      한       74.605\n",
       "35       o      부       85.843\n",
       "36       1      첨       81.041\n",
       "37       H      ~       18.484\n",
       "38       A      ~        9.211\n",
       "39       니      ~        5.582\n",
       "40       o      ~        6.615"
      ]
     },
     "execution_count": 51,
     "metadata": {},
     "output_type": "execute_result"
    }
   ],
   "source": [
    "### 데이터 프레임 형태로 비교해 보기\n",
    "\n",
    "result_df = pd.DataFrame(columns=['predict', 'actual', 'probability'])\n",
    "\n",
    "result_df.actual = Y_test\n",
    "result_df.predict = predict_lst\n",
    "result_df.probability = probability_lst\n",
    "result_df# 숫자는 나름 잘 맞추는거 같은데 한글은 의무기록지 한장으로는 통 못 맞춤"
   ]
  },
  {
   "cell_type": "markdown",
   "metadata": {},
   "source": [
    "# 7. 모델 평가"
   ]
  },
  {
   "cell_type": "code",
   "execution_count": 13,
   "metadata": {
    "scrolled": true
   },
   "outputs": [
    {
     "name": "stdout",
     "output_type": "stream",
     "text": [
      "accurracy:  0.24390243902439024\n",
      "precision_none:  [1.         0.5        1.         0.42857143 0.         0.5\n",
      " 0.         0.         0.         0.         0.         0.\n",
      " 0.         0.         0.         0.         0.         0.\n",
      " 0.         0.         0.         0.         0.         0.\n",
      " 0.         0.         0.         0.         0.         1.\n",
      " 0.         0.         0.         0.         0.5        0.\n",
      " 0.         0.         0.         0.         0.         0.\n",
      " 0.         0.         0.         0.        ]\n",
      "precision_micro:  0.24390243902439024\n",
      "precision_macro:  0.10714285714285715\n",
      "precision_weighted:  0.17770034843205573\n",
      "recall_micro:  0.24390243902439024\n",
      "recall_macro:  0.14130434782608695\n",
      "recall_weighted:  0.24390243902439024\n",
      "f1_weighted:  0.1983739837398374\n"
     ]
    }
   ],
   "source": [
    "# 다중 레이블 다중 분류\n",
    "\n",
    "### TP, TN, FP, FN  //  accuracy, precision, recall, F1\n",
    "\n",
    "from sklearn.metrics import accuracy_score\n",
    "from sklearn.metrics import precision_score\n",
    "from sklearn.metrics import recall_score\n",
    "from sklearn.metrics import f1_score\n",
    "\n",
    "acc = accuracy_score(Y_test, predict_lst)\n",
    "\n",
    "precision_none = precision_score(Y_test, predict_lst, average=None)\n",
    "precision_micro = precision_score(Y_test, predict_lst, average='micro')\n",
    "precision_macro = precision_score(Y_test, predict_lst, average='macro') # 'micro', 'macro', 'weighted'\n",
    "precision_weighted = precision_score(Y_test, predict_lst, average='weighted') # 'micro', 'macro', 'weighted'\n",
    "\n",
    "recall_micro = recall_score(Y_test, predict_lst, average='micro')\n",
    "recall_macro = recall_score(Y_test, predict_lst, average='macro') # 'micro', 'macro', 'weighted'\n",
    "recall_weighted = recall_score(Y_test, predict_lst, average='weighted') # 'micro', 'macro', 'weighted'\n",
    "\n",
    "f1_weighted = f1_score(Y_test, predict_lst, labels=None, average=\"weighted\")\n",
    "\n",
    "print('accurracy: ', acc)\n",
    "\n",
    "print('precision_none: ', precision_none)\n",
    "print('precision_micro: ', precision_micro)\n",
    "print('precision_macro: ', precision_macro)\n",
    "print('precision_weighted: ', precision_weighted)\n",
    "\n",
    "print('recall_micro: ', recall_micro)\n",
    "print('recall_macro: ', recall_macro)\n",
    "print('recall_weighted: ', recall_weighted)\n",
    "\n",
    "print('f1_weighted: ', f1_weighted)"
   ]
  },
  {
   "cell_type": "markdown",
   "metadata": {},
   "source": [
    "# 8. roc커브, auc 구하기"
   ]
  },
  {
   "cell_type": "code",
   "execution_count": 54,
   "metadata": {},
   "outputs": [
    {
     "name": "stderr",
     "output_type": "stream",
     "text": [
      "C:\\Users\\SURIMWANG\\Anaconda3\\lib\\site-packages\\sklearn\\linear_model\\least_angle.py:30: DeprecationWarning: `np.float` is a deprecated alias for the builtin `float`. To silence this warning, use `float` by itself. Doing this will not modify any behavior and is safe. If you specifically wanted the numpy scalar type, use `np.float64` here.\n",
      "Deprecated in NumPy 1.20; for more details and guidance: https://numpy.org/devdocs/release/1.20.0-notes.html#deprecations\n",
      "  method='lar', copy_X=True, eps=np.finfo(np.float).eps,\n",
      "C:\\Users\\SURIMWANG\\Anaconda3\\lib\\site-packages\\sklearn\\linear_model\\least_angle.py:167: DeprecationWarning: `np.float` is a deprecated alias for the builtin `float`. To silence this warning, use `float` by itself. Doing this will not modify any behavior and is safe. If you specifically wanted the numpy scalar type, use `np.float64` here.\n",
      "Deprecated in NumPy 1.20; for more details and guidance: https://numpy.org/devdocs/release/1.20.0-notes.html#deprecations\n",
      "  method='lar', copy_X=True, eps=np.finfo(np.float).eps,\n",
      "C:\\Users\\SURIMWANG\\Anaconda3\\lib\\site-packages\\sklearn\\linear_model\\least_angle.py:284: DeprecationWarning: `np.float` is a deprecated alias for the builtin `float`. To silence this warning, use `float` by itself. Doing this will not modify any behavior and is safe. If you specifically wanted the numpy scalar type, use `np.float64` here.\n",
      "Deprecated in NumPy 1.20; for more details and guidance: https://numpy.org/devdocs/release/1.20.0-notes.html#deprecations\n",
      "  eps=np.finfo(np.float).eps, copy_Gram=True, verbose=0,\n",
      "C:\\Users\\SURIMWANG\\Anaconda3\\lib\\site-packages\\sklearn\\linear_model\\least_angle.py:862: DeprecationWarning: `np.float` is a deprecated alias for the builtin `float`. To silence this warning, use `float` by itself. Doing this will not modify any behavior and is safe. If you specifically wanted the numpy scalar type, use `np.float64` here.\n",
      "Deprecated in NumPy 1.20; for more details and guidance: https://numpy.org/devdocs/release/1.20.0-notes.html#deprecations\n",
      "  eps=np.finfo(np.float).eps, copy_X=True, fit_path=True,\n",
      "C:\\Users\\SURIMWANG\\Anaconda3\\lib\\site-packages\\sklearn\\linear_model\\least_angle.py:1101: DeprecationWarning: `np.float` is a deprecated alias for the builtin `float`. To silence this warning, use `float` by itself. Doing this will not modify any behavior and is safe. If you specifically wanted the numpy scalar type, use `np.float64` here.\n",
      "Deprecated in NumPy 1.20; for more details and guidance: https://numpy.org/devdocs/release/1.20.0-notes.html#deprecations\n",
      "  eps=np.finfo(np.float).eps, copy_X=True, fit_path=True,\n",
      "C:\\Users\\SURIMWANG\\Anaconda3\\lib\\site-packages\\sklearn\\linear_model\\least_angle.py:1127: DeprecationWarning: `np.float` is a deprecated alias for the builtin `float`. To silence this warning, use `float` by itself. Doing this will not modify any behavior and is safe. If you specifically wanted the numpy scalar type, use `np.float64` here.\n",
      "Deprecated in NumPy 1.20; for more details and guidance: https://numpy.org/devdocs/release/1.20.0-notes.html#deprecations\n",
      "  eps=np.finfo(np.float).eps, positive=False):\n",
      "C:\\Users\\SURIMWANG\\Anaconda3\\lib\\site-packages\\sklearn\\linear_model\\least_angle.py:1362: DeprecationWarning: `np.float` is a deprecated alias for the builtin `float`. To silence this warning, use `float` by itself. Doing this will not modify any behavior and is safe. If you specifically wanted the numpy scalar type, use `np.float64` here.\n",
      "Deprecated in NumPy 1.20; for more details and guidance: https://numpy.org/devdocs/release/1.20.0-notes.html#deprecations\n",
      "  max_n_alphas=1000, n_jobs=None, eps=np.finfo(np.float).eps,\n",
      "C:\\Users\\SURIMWANG\\Anaconda3\\lib\\site-packages\\sklearn\\linear_model\\least_angle.py:1602: DeprecationWarning: `np.float` is a deprecated alias for the builtin `float`. To silence this warning, use `float` by itself. Doing this will not modify any behavior and is safe. If you specifically wanted the numpy scalar type, use `np.float64` here.\n",
      "Deprecated in NumPy 1.20; for more details and guidance: https://numpy.org/devdocs/release/1.20.0-notes.html#deprecations\n",
      "  max_n_alphas=1000, n_jobs=None, eps=np.finfo(np.float).eps,\n",
      "C:\\Users\\SURIMWANG\\Anaconda3\\lib\\site-packages\\sklearn\\linear_model\\least_angle.py:1738: DeprecationWarning: `np.float` is a deprecated alias for the builtin `float`. To silence this warning, use `float` by itself. Doing this will not modify any behavior and is safe. If you specifically wanted the numpy scalar type, use `np.float64` here.\n",
      "Deprecated in NumPy 1.20; for more details and guidance: https://numpy.org/devdocs/release/1.20.0-notes.html#deprecations\n",
      "  eps=np.finfo(np.float).eps, copy_X=True, positive=False):\n",
      "C:\\Users\\SURIMWANG\\Anaconda3\\lib\\site-packages\\sklearn\\feature_extraction\\image.py:167: DeprecationWarning: `np.int` is a deprecated alias for the builtin `int`. To silence this warning, use `int` by itself. Doing this will not modify any behavior and is safe. When replacing `np.int`, you may wish to use e.g. `np.int64` or `np.int32` to specify the precision. If you wish to review your current use, check the release note link for additional information.\n",
      "Deprecated in NumPy 1.20; for more details and guidance: https://numpy.org/devdocs/release/1.20.0-notes.html#deprecations\n",
      "  dtype=np.int):\n"
     ]
    }
   ],
   "source": [
    "import matplotlib.pyplot as plt\n",
    "from itertools import cycle\n",
    "\n",
    "from sklearn import svm, datasets\n",
    "from sklearn.metrics import roc_curve, auc\n",
    "from sklearn.model_selection import train_test_split\n",
    "from sklearn.preprocessing import label_binarize\n",
    "from sklearn.multiclass import OneVsRestClassifier\n",
    "from scipy import interp\n",
    "from sklearn.metrics import roc_auc_score"
   ]
  },
  {
   "cell_type": "code",
   "execution_count": 92,
   "metadata": {},
   "outputs": [
    {
     "name": "stdout",
     "output_type": "stream",
     "text": [
      "(41, 122)\n",
      "<class 'numpy.ndarray'>\n"
     ]
    }
   ],
   "source": [
    "print(pred.shape)\n",
    "print(type(pred))"
   ]
  },
  {
   "cell_type": "markdown",
   "metadata": {},
   "source": [
    "실제값을 타이핑 해뒀는데 그게 아니라 어레이로 만들어져야 할듯"
   ]
  },
  {
   "cell_type": "markdown",
   "metadata": {},
   "source": [
    "어떻게? 잘해봐 왕수"
   ]
  },
  {
   "cell_type": "code",
   "execution_count": null,
   "metadata": {},
   "outputs": [],
   "source": [
    "fpr = dict()\n",
    "tpr = dict()\n",
    "roc_auc = dict()\n",
    "for i in range(n_classes):\n",
    "    fpr[i], tpr[i], _ = roc_curve(y_test[:, i], y_score[:, i])\n",
    "    roc_auc[i] = auc(fpr[i], tpr[i])\n",
    "\n",
    "# Compute micro-average ROC curve and ROC area\n",
    "fpr[\"micro\"], tpr[\"micro\"], _ = roc_curve(y_test.ravel(), y_score.ravel())\n",
    "roc_auc[\"micro\"] = auc(fpr[\"micro\"], tpr[\"micro\"])"
   ]
  },
  {
   "cell_type": "code",
   "execution_count": null,
   "metadata": {},
   "outputs": [],
   "source": [
    "plt.figure()\n",
    "lw = 2\n",
    "plt.plot(fpr[2], tpr[2], color='darkorange',\n",
    "         lw=lw, label='ROC curve (area = %0.2f)' % roc_auc[2])\n",
    "plt.plot([0, 1], [0, 1], color='navy', lw=lw, linestyle='--')\n",
    "plt.xlim([0.0, 1.0])\n",
    "plt.ylim([0.0, 1.05])\n",
    "plt.xlabel('False Positive Rate')\n",
    "plt.ylabel('True Positive Rate')\n",
    "plt.title('Receiver operating characteristic example')\n",
    "plt.legend(loc=\"lower right\")\n",
    "plt.show()"
   ]
  },
  {
   "cell_type": "code",
   "execution_count": null,
   "metadata": {},
   "outputs": [],
   "source": []
  },
  {
   "cell_type": "code",
   "execution_count": null,
   "metadata": {},
   "outputs": [],
   "source": []
  },
  {
   "cell_type": "code",
   "execution_count": null,
   "metadata": {},
   "outputs": [],
   "source": []
  },
  {
   "cell_type": "code",
   "execution_count": null,
   "metadata": {},
   "outputs": [],
   "source": []
  },
  {
   "cell_type": "markdown",
   "metadata": {},
   "source": [
    "# 9. need to update labelme"
   ]
  },
  {
   "cell_type": "code",
   "execution_count": null,
   "metadata": {},
   "outputs": [],
   "source": []
  },
  {
   "cell_type": "code",
   "execution_count": null,
   "metadata": {},
   "outputs": [],
   "source": []
  },
  {
   "cell_type": "code",
   "execution_count": null,
   "metadata": {},
   "outputs": [],
   "source": []
  },
  {
   "cell_type": "code",
   "execution_count": null,
   "metadata": {},
   "outputs": [],
   "source": []
  }
 ],
 "metadata": {
  "kernelspec": {
   "display_name": "Python 3",
   "language": "python",
   "name": "python3"
  },
  "language_info": {
   "codemirror_mode": {
    "name": "ipython",
    "version": 3
   },
   "file_extension": ".py",
   "mimetype": "text/x-python",
   "name": "python",
   "nbconvert_exporter": "python",
   "pygments_lexer": "ipython3",
   "version": "3.7.4"
  }
 },
 "nbformat": 4,
 "nbformat_minor": 2
}
